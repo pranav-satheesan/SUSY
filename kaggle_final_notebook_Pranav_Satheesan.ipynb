{
  "cells": [
    {
      "cell_type": "code",
      "execution_count": 3,
      "metadata": {
        "_cell_guid": "b1076dfc-b9ad-4769-8c92-a6c4dae69d19",
        "_uuid": "8f2839f25d086af736a60e9eeb907d3b93b6e0e5",
        "execution": {
          "iopub.execute_input": "2023-01-09T17:31:30.281081Z",
          "iopub.status.busy": "2023-01-09T17:31:30.280625Z",
          "iopub.status.idle": "2023-01-09T17:31:30.293579Z",
          "shell.execute_reply": "2023-01-09T17:31:30.292635Z",
          "shell.execute_reply.started": "2023-01-09T17:31:30.281047Z"
        },
        "trusted": true,
        "id": "w_8qMIzkuQK0"
      },
      "outputs": [],
      "source": [
        "# This Python 3 environment comes with many helpful analytics libraries installed\n",
        "# It is defined by the kaggle/python Docker image: https://github.com/kaggle/docker-python\n",
        "# For example, here's several helpful packages to load\n",
        "\n",
        "import numpy as np # linear algebra\n",
        "import pandas as pd # data processing, CSV file I/O (e.g. pd.read_csv)\n",
        "\n",
        "# Input data files are available in the read-only \"../input/\" directory\n",
        "# For example, running this (by clicking run or pressing Shift+Enter) will list all files under the input directory\n",
        "\n",
        "import os\n",
        "for dirname, _, filenames in os.walk('/kaggle/input'):\n",
        "    for filename in filenames:\n",
        "        print(os.path.join(dirname, filename))\n",
        "\n",
        "# You can write up to 20GB to the current directory (/kaggle/working/) that gets preserved as output when you create a version using \"Save & Run All\" \n",
        "# You can also write temporary files to /kaggle/temp/, but they won't be saved outside of the current session"
      ]
    },
    {
      "cell_type": "code",
      "execution_count": 4,
      "metadata": {
        "execution": {
          "iopub.execute_input": "2023-01-09T17:31:30.296645Z",
          "iopub.status.busy": "2023-01-09T17:31:30.295465Z",
          "iopub.status.idle": "2023-01-09T17:31:30.307507Z",
          "shell.execute_reply": "2023-01-09T17:31:30.306258Z",
          "shell.execute_reply.started": "2023-01-09T17:31:30.296597Z"
        },
        "trusted": true,
        "id": "oF6CSY52uQK5"
      },
      "outputs": [],
      "source": [
        "import matplotlib.pyplot as plt\n",
        "import seaborn as sns"
      ]
    },
    {
      "cell_type": "markdown",
      "metadata": {
        "id": "2TIuRAatuQK6"
      },
      "source": [
        "# **Getting the train and test data**"
      ]
    },
    {
      "cell_type": "code",
      "execution_count": 13,
      "metadata": {
        "execution": {
          "iopub.execute_input": "2023-01-09T17:31:30.309407Z",
          "iopub.status.busy": "2023-01-09T17:31:30.308831Z",
          "iopub.status.idle": "2023-01-09T17:31:30.323784Z",
          "shell.execute_reply": "2023-01-09T17:31:30.322355Z",
          "shell.execute_reply.started": "2023-01-09T17:31:30.309372Z"
        },
        "trusted": true,
        "colab": {
          "base_uri": "https://localhost:8080/",
          "height": 174
        },
        "id": "eJl9ziLruQK8",
        "outputId": "c28f821b-8aff-4300-f37b-9899aadf8f48"
      },
      "outputs": [
        {
          "output_type": "stream",
          "name": "stderr",
          "text": [
            "Downloading...\n",
            "From: https://drive.google.com/uc?id=1_FZIrNug8svcEK5QMDdV2MoHmcCny8kJ&export=download\n",
            "To: /content/train.csv\n",
            "100%|██████████| 1.24G/1.24G [00:05<00:00, 219MB/s]\n",
            "Downloading...\n",
            "From: https://drive.google.com/uc?id=1_FAidr3sAiSWx6mPS26HMpWjVaiSTOXq&export=download\n",
            "To: /content/test.csv\n",
            "100%|██████████| 524M/524M [00:03<00:00, 170MB/s]\n"
          ]
        },
        {
          "output_type": "execute_result",
          "data": {
            "text/plain": [
              "'test.csv'"
            ],
            "application/vnd.google.colaboratory.intrinsic+json": {
              "type": "string"
            }
          },
          "metadata": {},
          "execution_count": 13
        }
      ],
      "source": [
        "import gdown\n",
        "\n",
        "url = \"https://drive.google.com/uc?id=1_FZIrNug8svcEK5QMDdV2MoHmcCny8kJ&export=download\"\n",
        "output = \"train.csv\"\n",
        "gdown.download(url, output)\n",
        "\n",
        "url = \"https://drive.google.com/uc?id=1_FAidr3sAiSWx6mPS26HMpWjVaiSTOXq&export=download\"\n",
        "output = \"test.csv\"\n",
        "gdown.download(url, output)"
      ]
    },
    {
      "cell_type": "code",
      "source": [
        "train_df = pd.read_csv(\"/content/train.csv\")\n",
        "test_df = pd.read_csv(\"/content/test.csv\")"
      ],
      "metadata": {
        "id": "VC1fL1-Hut6l"
      },
      "execution_count": 17,
      "outputs": []
    },
    {
      "cell_type": "code",
      "source": [
        "train_df"
      ],
      "metadata": {
        "colab": {
          "base_uri": "https://localhost:8080/",
          "height": 505
        },
        "id": "eYlZxV_Fu4c1",
        "outputId": "af34b8b6-d78f-41c7-d19d-9b984cb0396c"
      },
      "execution_count": 18,
      "outputs": [
        {
          "output_type": "execute_result",
          "data": {
            "text/plain": [
              "         Unnamed: 0  lepton_1_pT  lepton_1_eta  lepton_1_phi  lepton_2_pT  \\\n",
              "0                 0     0.841381      1.832647     -0.689286     0.781839   \n",
              "1                 1     0.663798      2.058290      0.681435     1.054036   \n",
              "2                 2     1.792225     -1.099978      0.088109     0.573157   \n",
              "3                 3     0.893018      0.297782     -1.274870     1.316164   \n",
              "4                 4     1.338997      0.350023     -1.518510     1.482963   \n",
              "...             ...          ...           ...           ...          ...   \n",
              "3499995     3499995     1.052621      0.602641     -0.859267     1.498731   \n",
              "3499996     3499996     0.624401      0.361025      1.177020     0.737001   \n",
              "3499997     3499997     0.719730     -0.655623     -1.236807     0.769770   \n",
              "3499998     3499998     0.670955     -0.450620     -0.880438     0.539060   \n",
              "3499999     3499999     0.665091      1.751356     -0.656336     0.864334   \n",
              "\n",
              "         lepton_2_eta  lepton_2_phi  missing_energy_magnitude  \\\n",
              "0            0.572864      1.577097                  0.398978   \n",
              "1            0.575352     -1.001445                  0.462154   \n",
              "2           -0.472629      1.642084                  1.203374   \n",
              "3            1.593303      0.672115                  0.307014   \n",
              "4           -0.491807      0.340170                  0.415071   \n",
              "...               ...           ...                       ...   \n",
              "3499995      0.416403      1.495084                  1.104591   \n",
              "3499996      0.380580      1.728161                  1.307348   \n",
              "3499997      1.170407     -0.009082                  1.505161   \n",
              "3499998      0.937796      0.357333                  0.289037   \n",
              "3499999      0.853009      1.665205                  1.422063   \n",
              "\n",
              "         missing_energy_phi   MET_rel  axial_MET       M_R    M_TR_2  \\\n",
              "0                 -0.683847  0.001826   0.651397  0.865560  0.429017   \n",
              "1                 -0.833411  0.199734   0.215158  0.949988  0.618046   \n",
              "2                  1.506731  0.457695  -0.640507  1.157024  1.585432   \n",
              "3                 -1.189868  0.064561   0.430909  1.162625  0.548821   \n",
              "4                 -1.292034  0.240712   0.611775  1.307798  0.697804   \n",
              "...                     ...       ...        ...       ...       ...   \n",
              "3499995            0.307900  1.658127  -0.778934  1.022135  1.441749   \n",
              "3499996           -0.744138  1.962474  -0.641088  0.555763  1.201866   \n",
              "3499997            0.097434  0.407014   0.097485  1.010633  1.095738   \n",
              "3499998            0.624295  0.197286   0.139753  0.689692  0.490803   \n",
              "3499999            1.186270  1.643481  -0.445953  0.701854  1.163961   \n",
              "\n",
              "                R       MT2       S_R  M_Delta_R  dPhi_r_b  cos(theta_r1)  \\\n",
              "0        0.439840  0.000000  0.796105   0.342497  0.461542       0.005710   \n",
              "1        0.577324  0.000000  0.962927   0.333800  1.455247       0.101246   \n",
              "2        1.215963  0.000000  1.113292   0.645729  0.721326       0.613326   \n",
              "3        0.418897  0.163908  1.157707   0.298163  0.803802       0.038902   \n",
              "4        0.473487  0.429977  1.287935   0.330327  0.717237       0.003147   \n",
              "...           ...       ...       ...        ...       ...            ...   \n",
              "3499995  1.251692  2.646003  1.051955   1.973445  1.203800       0.056984   \n",
              "3499996  1.919043  2.366463  0.630864   1.763709  1.075939       0.640265   \n",
              "3499997  0.962121  0.359156  1.073840   1.268585  1.242062       0.262156   \n",
              "3499998  0.631491  0.326569  0.664390   0.521536  0.502427       0.198597   \n",
              "3499999  1.471656  1.489170  0.797141   1.257939  1.238222       0.449188   \n",
              "\n",
              "         class  \n",
              "0          0.0  \n",
              "1          0.0  \n",
              "2          1.0  \n",
              "3          0.0  \n",
              "4          1.0  \n",
              "...        ...  \n",
              "3499995    1.0  \n",
              "3499996    0.0  \n",
              "3499997    1.0  \n",
              "3499998    0.0  \n",
              "3499999    0.0  \n",
              "\n",
              "[3500000 rows x 20 columns]"
            ],
            "text/html": [
              "\n",
              "  <div id=\"df-721d7fe6-b2e2-4f84-a795-39bf92ae4a0d\">\n",
              "    <div class=\"colab-df-container\">\n",
              "      <div>\n",
              "<style scoped>\n",
              "    .dataframe tbody tr th:only-of-type {\n",
              "        vertical-align: middle;\n",
              "    }\n",
              "\n",
              "    .dataframe tbody tr th {\n",
              "        vertical-align: top;\n",
              "    }\n",
              "\n",
              "    .dataframe thead th {\n",
              "        text-align: right;\n",
              "    }\n",
              "</style>\n",
              "<table border=\"1\" class=\"dataframe\">\n",
              "  <thead>\n",
              "    <tr style=\"text-align: right;\">\n",
              "      <th></th>\n",
              "      <th>Unnamed: 0</th>\n",
              "      <th>lepton_1_pT</th>\n",
              "      <th>lepton_1_eta</th>\n",
              "      <th>lepton_1_phi</th>\n",
              "      <th>lepton_2_pT</th>\n",
              "      <th>lepton_2_eta</th>\n",
              "      <th>lepton_2_phi</th>\n",
              "      <th>missing_energy_magnitude</th>\n",
              "      <th>missing_energy_phi</th>\n",
              "      <th>MET_rel</th>\n",
              "      <th>axial_MET</th>\n",
              "      <th>M_R</th>\n",
              "      <th>M_TR_2</th>\n",
              "      <th>R</th>\n",
              "      <th>MT2</th>\n",
              "      <th>S_R</th>\n",
              "      <th>M_Delta_R</th>\n",
              "      <th>dPhi_r_b</th>\n",
              "      <th>cos(theta_r1)</th>\n",
              "      <th>class</th>\n",
              "    </tr>\n",
              "  </thead>\n",
              "  <tbody>\n",
              "    <tr>\n",
              "      <th>0</th>\n",
              "      <td>0</td>\n",
              "      <td>0.841381</td>\n",
              "      <td>1.832647</td>\n",
              "      <td>-0.689286</td>\n",
              "      <td>0.781839</td>\n",
              "      <td>0.572864</td>\n",
              "      <td>1.577097</td>\n",
              "      <td>0.398978</td>\n",
              "      <td>-0.683847</td>\n",
              "      <td>0.001826</td>\n",
              "      <td>0.651397</td>\n",
              "      <td>0.865560</td>\n",
              "      <td>0.429017</td>\n",
              "      <td>0.439840</td>\n",
              "      <td>0.000000</td>\n",
              "      <td>0.796105</td>\n",
              "      <td>0.342497</td>\n",
              "      <td>0.461542</td>\n",
              "      <td>0.005710</td>\n",
              "      <td>0.0</td>\n",
              "    </tr>\n",
              "    <tr>\n",
              "      <th>1</th>\n",
              "      <td>1</td>\n",
              "      <td>0.663798</td>\n",
              "      <td>2.058290</td>\n",
              "      <td>0.681435</td>\n",
              "      <td>1.054036</td>\n",
              "      <td>0.575352</td>\n",
              "      <td>-1.001445</td>\n",
              "      <td>0.462154</td>\n",
              "      <td>-0.833411</td>\n",
              "      <td>0.199734</td>\n",
              "      <td>0.215158</td>\n",
              "      <td>0.949988</td>\n",
              "      <td>0.618046</td>\n",
              "      <td>0.577324</td>\n",
              "      <td>0.000000</td>\n",
              "      <td>0.962927</td>\n",
              "      <td>0.333800</td>\n",
              "      <td>1.455247</td>\n",
              "      <td>0.101246</td>\n",
              "      <td>0.0</td>\n",
              "    </tr>\n",
              "    <tr>\n",
              "      <th>2</th>\n",
              "      <td>2</td>\n",
              "      <td>1.792225</td>\n",
              "      <td>-1.099978</td>\n",
              "      <td>0.088109</td>\n",
              "      <td>0.573157</td>\n",
              "      <td>-0.472629</td>\n",
              "      <td>1.642084</td>\n",
              "      <td>1.203374</td>\n",
              "      <td>1.506731</td>\n",
              "      <td>0.457695</td>\n",
              "      <td>-0.640507</td>\n",
              "      <td>1.157024</td>\n",
              "      <td>1.585432</td>\n",
              "      <td>1.215963</td>\n",
              "      <td>0.000000</td>\n",
              "      <td>1.113292</td>\n",
              "      <td>0.645729</td>\n",
              "      <td>0.721326</td>\n",
              "      <td>0.613326</td>\n",
              "      <td>1.0</td>\n",
              "    </tr>\n",
              "    <tr>\n",
              "      <th>3</th>\n",
              "      <td>3</td>\n",
              "      <td>0.893018</td>\n",
              "      <td>0.297782</td>\n",
              "      <td>-1.274870</td>\n",
              "      <td>1.316164</td>\n",
              "      <td>1.593303</td>\n",
              "      <td>0.672115</td>\n",
              "      <td>0.307014</td>\n",
              "      <td>-1.189868</td>\n",
              "      <td>0.064561</td>\n",
              "      <td>0.430909</td>\n",
              "      <td>1.162625</td>\n",
              "      <td>0.548821</td>\n",
              "      <td>0.418897</td>\n",
              "      <td>0.163908</td>\n",
              "      <td>1.157707</td>\n",
              "      <td>0.298163</td>\n",
              "      <td>0.803802</td>\n",
              "      <td>0.038902</td>\n",
              "      <td>0.0</td>\n",
              "    </tr>\n",
              "    <tr>\n",
              "      <th>4</th>\n",
              "      <td>4</td>\n",
              "      <td>1.338997</td>\n",
              "      <td>0.350023</td>\n",
              "      <td>-1.518510</td>\n",
              "      <td>1.482963</td>\n",
              "      <td>-0.491807</td>\n",
              "      <td>0.340170</td>\n",
              "      <td>0.415071</td>\n",
              "      <td>-1.292034</td>\n",
              "      <td>0.240712</td>\n",
              "      <td>0.611775</td>\n",
              "      <td>1.307798</td>\n",
              "      <td>0.697804</td>\n",
              "      <td>0.473487</td>\n",
              "      <td>0.429977</td>\n",
              "      <td>1.287935</td>\n",
              "      <td>0.330327</td>\n",
              "      <td>0.717237</td>\n",
              "      <td>0.003147</td>\n",
              "      <td>1.0</td>\n",
              "    </tr>\n",
              "    <tr>\n",
              "      <th>...</th>\n",
              "      <td>...</td>\n",
              "      <td>...</td>\n",
              "      <td>...</td>\n",
              "      <td>...</td>\n",
              "      <td>...</td>\n",
              "      <td>...</td>\n",
              "      <td>...</td>\n",
              "      <td>...</td>\n",
              "      <td>...</td>\n",
              "      <td>...</td>\n",
              "      <td>...</td>\n",
              "      <td>...</td>\n",
              "      <td>...</td>\n",
              "      <td>...</td>\n",
              "      <td>...</td>\n",
              "      <td>...</td>\n",
              "      <td>...</td>\n",
              "      <td>...</td>\n",
              "      <td>...</td>\n",
              "      <td>...</td>\n",
              "    </tr>\n",
              "    <tr>\n",
              "      <th>3499995</th>\n",
              "      <td>3499995</td>\n",
              "      <td>1.052621</td>\n",
              "      <td>0.602641</td>\n",
              "      <td>-0.859267</td>\n",
              "      <td>1.498731</td>\n",
              "      <td>0.416403</td>\n",
              "      <td>1.495084</td>\n",
              "      <td>1.104591</td>\n",
              "      <td>0.307900</td>\n",
              "      <td>1.658127</td>\n",
              "      <td>-0.778934</td>\n",
              "      <td>1.022135</td>\n",
              "      <td>1.441749</td>\n",
              "      <td>1.251692</td>\n",
              "      <td>2.646003</td>\n",
              "      <td>1.051955</td>\n",
              "      <td>1.973445</td>\n",
              "      <td>1.203800</td>\n",
              "      <td>0.056984</td>\n",
              "      <td>1.0</td>\n",
              "    </tr>\n",
              "    <tr>\n",
              "      <th>3499996</th>\n",
              "      <td>3499996</td>\n",
              "      <td>0.624401</td>\n",
              "      <td>0.361025</td>\n",
              "      <td>1.177020</td>\n",
              "      <td>0.737001</td>\n",
              "      <td>0.380580</td>\n",
              "      <td>1.728161</td>\n",
              "      <td>1.307348</td>\n",
              "      <td>-0.744138</td>\n",
              "      <td>1.962474</td>\n",
              "      <td>-0.641088</td>\n",
              "      <td>0.555763</td>\n",
              "      <td>1.201866</td>\n",
              "      <td>1.919043</td>\n",
              "      <td>2.366463</td>\n",
              "      <td>0.630864</td>\n",
              "      <td>1.763709</td>\n",
              "      <td>1.075939</td>\n",
              "      <td>0.640265</td>\n",
              "      <td>0.0</td>\n",
              "    </tr>\n",
              "    <tr>\n",
              "      <th>3499997</th>\n",
              "      <td>3499997</td>\n",
              "      <td>0.719730</td>\n",
              "      <td>-0.655623</td>\n",
              "      <td>-1.236807</td>\n",
              "      <td>0.769770</td>\n",
              "      <td>1.170407</td>\n",
              "      <td>-0.009082</td>\n",
              "      <td>1.505161</td>\n",
              "      <td>0.097434</td>\n",
              "      <td>0.407014</td>\n",
              "      <td>0.097485</td>\n",
              "      <td>1.010633</td>\n",
              "      <td>1.095738</td>\n",
              "      <td>0.962121</td>\n",
              "      <td>0.359156</td>\n",
              "      <td>1.073840</td>\n",
              "      <td>1.268585</td>\n",
              "      <td>1.242062</td>\n",
              "      <td>0.262156</td>\n",
              "      <td>1.0</td>\n",
              "    </tr>\n",
              "    <tr>\n",
              "      <th>3499998</th>\n",
              "      <td>3499998</td>\n",
              "      <td>0.670955</td>\n",
              "      <td>-0.450620</td>\n",
              "      <td>-0.880438</td>\n",
              "      <td>0.539060</td>\n",
              "      <td>0.937796</td>\n",
              "      <td>0.357333</td>\n",
              "      <td>0.289037</td>\n",
              "      <td>0.624295</td>\n",
              "      <td>0.197286</td>\n",
              "      <td>0.139753</td>\n",
              "      <td>0.689692</td>\n",
              "      <td>0.490803</td>\n",
              "      <td>0.631491</td>\n",
              "      <td>0.326569</td>\n",
              "      <td>0.664390</td>\n",
              "      <td>0.521536</td>\n",
              "      <td>0.502427</td>\n",
              "      <td>0.198597</td>\n",
              "      <td>0.0</td>\n",
              "    </tr>\n",
              "    <tr>\n",
              "      <th>3499999</th>\n",
              "      <td>3499999</td>\n",
              "      <td>0.665091</td>\n",
              "      <td>1.751356</td>\n",
              "      <td>-0.656336</td>\n",
              "      <td>0.864334</td>\n",
              "      <td>0.853009</td>\n",
              "      <td>1.665205</td>\n",
              "      <td>1.422063</td>\n",
              "      <td>1.186270</td>\n",
              "      <td>1.643481</td>\n",
              "      <td>-0.445953</td>\n",
              "      <td>0.701854</td>\n",
              "      <td>1.163961</td>\n",
              "      <td>1.471656</td>\n",
              "      <td>1.489170</td>\n",
              "      <td>0.797141</td>\n",
              "      <td>1.257939</td>\n",
              "      <td>1.238222</td>\n",
              "      <td>0.449188</td>\n",
              "      <td>0.0</td>\n",
              "    </tr>\n",
              "  </tbody>\n",
              "</table>\n",
              "<p>3500000 rows × 20 columns</p>\n",
              "</div>\n",
              "      <button class=\"colab-df-convert\" onclick=\"convertToInteractive('df-721d7fe6-b2e2-4f84-a795-39bf92ae4a0d')\"\n",
              "              title=\"Convert this dataframe to an interactive table.\"\n",
              "              style=\"display:none;\">\n",
              "        \n",
              "  <svg xmlns=\"http://www.w3.org/2000/svg\" height=\"24px\"viewBox=\"0 0 24 24\"\n",
              "       width=\"24px\">\n",
              "    <path d=\"M0 0h24v24H0V0z\" fill=\"none\"/>\n",
              "    <path d=\"M18.56 5.44l.94 2.06.94-2.06 2.06-.94-2.06-.94-.94-2.06-.94 2.06-2.06.94zm-11 1L8.5 8.5l.94-2.06 2.06-.94-2.06-.94L8.5 2.5l-.94 2.06-2.06.94zm10 10l.94 2.06.94-2.06 2.06-.94-2.06-.94-.94-2.06-.94 2.06-2.06.94z\"/><path d=\"M17.41 7.96l-1.37-1.37c-.4-.4-.92-.59-1.43-.59-.52 0-1.04.2-1.43.59L10.3 9.45l-7.72 7.72c-.78.78-.78 2.05 0 2.83L4 21.41c.39.39.9.59 1.41.59.51 0 1.02-.2 1.41-.59l7.78-7.78 2.81-2.81c.8-.78.8-2.07 0-2.86zM5.41 20L4 18.59l7.72-7.72 1.47 1.35L5.41 20z\"/>\n",
              "  </svg>\n",
              "      </button>\n",
              "      \n",
              "  <style>\n",
              "    .colab-df-container {\n",
              "      display:flex;\n",
              "      flex-wrap:wrap;\n",
              "      gap: 12px;\n",
              "    }\n",
              "\n",
              "    .colab-df-convert {\n",
              "      background-color: #E8F0FE;\n",
              "      border: none;\n",
              "      border-radius: 50%;\n",
              "      cursor: pointer;\n",
              "      display: none;\n",
              "      fill: #1967D2;\n",
              "      height: 32px;\n",
              "      padding: 0 0 0 0;\n",
              "      width: 32px;\n",
              "    }\n",
              "\n",
              "    .colab-df-convert:hover {\n",
              "      background-color: #E2EBFA;\n",
              "      box-shadow: 0px 1px 2px rgba(60, 64, 67, 0.3), 0px 1px 3px 1px rgba(60, 64, 67, 0.15);\n",
              "      fill: #174EA6;\n",
              "    }\n",
              "\n",
              "    [theme=dark] .colab-df-convert {\n",
              "      background-color: #3B4455;\n",
              "      fill: #D2E3FC;\n",
              "    }\n",
              "\n",
              "    [theme=dark] .colab-df-convert:hover {\n",
              "      background-color: #434B5C;\n",
              "      box-shadow: 0px 1px 3px 1px rgba(0, 0, 0, 0.15);\n",
              "      filter: drop-shadow(0px 1px 2px rgba(0, 0, 0, 0.3));\n",
              "      fill: #FFFFFF;\n",
              "    }\n",
              "  </style>\n",
              "\n",
              "      <script>\n",
              "        const buttonEl =\n",
              "          document.querySelector('#df-721d7fe6-b2e2-4f84-a795-39bf92ae4a0d button.colab-df-convert');\n",
              "        buttonEl.style.display =\n",
              "          google.colab.kernel.accessAllowed ? 'block' : 'none';\n",
              "\n",
              "        async function convertToInteractive(key) {\n",
              "          const element = document.querySelector('#df-721d7fe6-b2e2-4f84-a795-39bf92ae4a0d');\n",
              "          const dataTable =\n",
              "            await google.colab.kernel.invokeFunction('convertToInteractive',\n",
              "                                                     [key], {});\n",
              "          if (!dataTable) return;\n",
              "\n",
              "          const docLinkHtml = 'Like what you see? Visit the ' +\n",
              "            '<a target=\"_blank\" href=https://colab.research.google.com/notebooks/data_table.ipynb>data table notebook</a>'\n",
              "            + ' to learn more about interactive tables.';\n",
              "          element.innerHTML = '';\n",
              "          dataTable['output_type'] = 'display_data';\n",
              "          await google.colab.output.renderOutput(dataTable, element);\n",
              "          const docLink = document.createElement('div');\n",
              "          docLink.innerHTML = docLinkHtml;\n",
              "          element.appendChild(docLink);\n",
              "        }\n",
              "      </script>\n",
              "    </div>\n",
              "  </div>\n",
              "  "
            ]
          },
          "metadata": {},
          "execution_count": 18
        }
      ]
    },
    {
      "cell_type": "code",
      "source": [
        "test_df"
      ],
      "metadata": {
        "colab": {
          "base_uri": "https://localhost:8080/",
          "height": 505
        },
        "id": "aSxR3GdWw9-h",
        "outputId": "2594aab9-af28-4a49-eabb-8d4abd00c53a"
      },
      "execution_count": 19,
      "outputs": [
        {
          "output_type": "execute_result",
          "data": {
            "text/plain": [
              "         Unnamed: 0  lepton_1_pT  lepton_1_eta  lepton_1_phi  lepton_2_pT  \\\n",
              "0                 0     1.667973      0.064191     -1.225171     0.506102   \n",
              "1                 1     0.698336      1.689431     -1.134670     0.966594   \n",
              "2                 2     0.578286     -0.689652     -0.390094     0.480061   \n",
              "3                 3     0.798202      0.099358     -1.095839     0.531147   \n",
              "4                 4     1.466649      0.115517     -1.036161     0.877247   \n",
              "...             ...          ...           ...           ...          ...   \n",
              "1499995     1499995     0.482755      1.204410      0.299445     0.780271   \n",
              "1499996     1499996     1.085361      0.861342     -1.356951     0.483685   \n",
              "1499997     1499997     1.339252     -1.753881      0.667430     1.279321   \n",
              "1499998     1499998     0.853325     -0.961783     -1.487277     0.678190   \n",
              "1499999     1499999     0.840389      1.419162     -1.218766     1.195631   \n",
              "\n",
              "         lepton_2_eta  lepton_2_phi  missing_energy_magnitude  \\\n",
              "0           -0.338939      1.672543                  3.475464   \n",
              "1            1.503367      0.880949                  0.242573   \n",
              "2           -0.632219      1.212005                  0.640473   \n",
              "3           -0.962327      1.500362                  1.273941   \n",
              "4            0.690861      1.130069                  0.890722   \n",
              "...               ...           ...                       ...   \n",
              "1499995      1.958697      0.938929                  0.887801   \n",
              "1499996      0.059381      0.292341                  0.340940   \n",
              "1499997     -0.125801     -1.025262                  0.996305   \n",
              "1499998      0.493580      1.647969                  1.843867   \n",
              "1499999      1.695645      0.663756                  0.490888   \n",
              "\n",
              "         missing_energy_phi   MET_rel  axial_MET       M_R    M_TR_2  \\\n",
              "0                 -1.219136  0.012955   3.775174  1.045977  0.568051   \n",
              "1                 -0.228654  0.364132   0.109350  0.668554  0.489941   \n",
              "2                 -1.622401  0.872160  -0.186169  0.451853  0.669288   \n",
              "3                  0.675408  1.803743  -0.845941  0.685836  1.234757   \n",
              "4                  0.426515  1.283212  -0.563880  1.090046  1.327570   \n",
              "...                     ...       ...        ...       ...       ...   \n",
              "1499995           -1.404129  1.332697  -0.456543  0.551233  0.957969   \n",
              "1499996            0.761038  0.380255   0.038984  0.774140  0.660777   \n",
              "1499997           -1.425422  1.005658  -0.529824  1.616218  1.278956   \n",
              "1499998            0.276954  1.025105  -1.486535  0.892879  1.684429   \n",
              "1499999           -0.509186  0.704289   0.045744  0.825015  0.723530   \n",
              "\n",
              "                R       MT2       S_R  M_Delta_R  dPhi_r_b  cos(theta_r1)  \n",
              "0        0.481928  0.000000  0.448410   0.205356  1.321893       0.377584  \n",
              "1        0.650313  0.683634  0.664825   0.510385  0.584092       0.031694  \n",
              "2        1.314412  0.559444  0.491753   0.559017  1.286520       0.400292  \n",
              "3        1.597630  1.864630  0.775854   1.556949  1.245781       0.538010  \n",
              "4        1.080762  1.588076  1.069615   1.258800  0.443045       0.415406  \n",
              "...           ...       ...       ...        ...       ...            ...  \n",
              "1499995  1.542171  1.982478  0.579808   1.481396  1.006600       0.189843  \n",
              "1499996  0.757443  0.331105  0.715807   0.447304  0.320159       0.371521  \n",
              "1499997  0.702218  0.541788  1.649413   1.139551  1.256152       0.159157  \n",
              "1499998  1.674084  3.366298  1.046707   2.646649  1.389226       0.364599  \n",
              "1499999  0.778236  0.752942  0.838953   0.614048  1.210595       0.026692  \n",
              "\n",
              "[1500000 rows x 19 columns]"
            ],
            "text/html": [
              "\n",
              "  <div id=\"df-582cac56-e130-485a-8e62-71953e4b6d1a\">\n",
              "    <div class=\"colab-df-container\">\n",
              "      <div>\n",
              "<style scoped>\n",
              "    .dataframe tbody tr th:only-of-type {\n",
              "        vertical-align: middle;\n",
              "    }\n",
              "\n",
              "    .dataframe tbody tr th {\n",
              "        vertical-align: top;\n",
              "    }\n",
              "\n",
              "    .dataframe thead th {\n",
              "        text-align: right;\n",
              "    }\n",
              "</style>\n",
              "<table border=\"1\" class=\"dataframe\">\n",
              "  <thead>\n",
              "    <tr style=\"text-align: right;\">\n",
              "      <th></th>\n",
              "      <th>Unnamed: 0</th>\n",
              "      <th>lepton_1_pT</th>\n",
              "      <th>lepton_1_eta</th>\n",
              "      <th>lepton_1_phi</th>\n",
              "      <th>lepton_2_pT</th>\n",
              "      <th>lepton_2_eta</th>\n",
              "      <th>lepton_2_phi</th>\n",
              "      <th>missing_energy_magnitude</th>\n",
              "      <th>missing_energy_phi</th>\n",
              "      <th>MET_rel</th>\n",
              "      <th>axial_MET</th>\n",
              "      <th>M_R</th>\n",
              "      <th>M_TR_2</th>\n",
              "      <th>R</th>\n",
              "      <th>MT2</th>\n",
              "      <th>S_R</th>\n",
              "      <th>M_Delta_R</th>\n",
              "      <th>dPhi_r_b</th>\n",
              "      <th>cos(theta_r1)</th>\n",
              "    </tr>\n",
              "  </thead>\n",
              "  <tbody>\n",
              "    <tr>\n",
              "      <th>0</th>\n",
              "      <td>0</td>\n",
              "      <td>1.667973</td>\n",
              "      <td>0.064191</td>\n",
              "      <td>-1.225171</td>\n",
              "      <td>0.506102</td>\n",
              "      <td>-0.338939</td>\n",
              "      <td>1.672543</td>\n",
              "      <td>3.475464</td>\n",
              "      <td>-1.219136</td>\n",
              "      <td>0.012955</td>\n",
              "      <td>3.775174</td>\n",
              "      <td>1.045977</td>\n",
              "      <td>0.568051</td>\n",
              "      <td>0.481928</td>\n",
              "      <td>0.000000</td>\n",
              "      <td>0.448410</td>\n",
              "      <td>0.205356</td>\n",
              "      <td>1.321893</td>\n",
              "      <td>0.377584</td>\n",
              "    </tr>\n",
              "    <tr>\n",
              "      <th>1</th>\n",
              "      <td>1</td>\n",
              "      <td>0.698336</td>\n",
              "      <td>1.689431</td>\n",
              "      <td>-1.134670</td>\n",
              "      <td>0.966594</td>\n",
              "      <td>1.503367</td>\n",
              "      <td>0.880949</td>\n",
              "      <td>0.242573</td>\n",
              "      <td>-0.228654</td>\n",
              "      <td>0.364132</td>\n",
              "      <td>0.109350</td>\n",
              "      <td>0.668554</td>\n",
              "      <td>0.489941</td>\n",
              "      <td>0.650313</td>\n",
              "      <td>0.683634</td>\n",
              "      <td>0.664825</td>\n",
              "      <td>0.510385</td>\n",
              "      <td>0.584092</td>\n",
              "      <td>0.031694</td>\n",
              "    </tr>\n",
              "    <tr>\n",
              "      <th>2</th>\n",
              "      <td>2</td>\n",
              "      <td>0.578286</td>\n",
              "      <td>-0.689652</td>\n",
              "      <td>-0.390094</td>\n",
              "      <td>0.480061</td>\n",
              "      <td>-0.632219</td>\n",
              "      <td>1.212005</td>\n",
              "      <td>0.640473</td>\n",
              "      <td>-1.622401</td>\n",
              "      <td>0.872160</td>\n",
              "      <td>-0.186169</td>\n",
              "      <td>0.451853</td>\n",
              "      <td>0.669288</td>\n",
              "      <td>1.314412</td>\n",
              "      <td>0.559444</td>\n",
              "      <td>0.491753</td>\n",
              "      <td>0.559017</td>\n",
              "      <td>1.286520</td>\n",
              "      <td>0.400292</td>\n",
              "    </tr>\n",
              "    <tr>\n",
              "      <th>3</th>\n",
              "      <td>3</td>\n",
              "      <td>0.798202</td>\n",
              "      <td>0.099358</td>\n",
              "      <td>-1.095839</td>\n",
              "      <td>0.531147</td>\n",
              "      <td>-0.962327</td>\n",
              "      <td>1.500362</td>\n",
              "      <td>1.273941</td>\n",
              "      <td>0.675408</td>\n",
              "      <td>1.803743</td>\n",
              "      <td>-0.845941</td>\n",
              "      <td>0.685836</td>\n",
              "      <td>1.234757</td>\n",
              "      <td>1.597630</td>\n",
              "      <td>1.864630</td>\n",
              "      <td>0.775854</td>\n",
              "      <td>1.556949</td>\n",
              "      <td>1.245781</td>\n",
              "      <td>0.538010</td>\n",
              "    </tr>\n",
              "    <tr>\n",
              "      <th>4</th>\n",
              "      <td>4</td>\n",
              "      <td>1.466649</td>\n",
              "      <td>0.115517</td>\n",
              "      <td>-1.036161</td>\n",
              "      <td>0.877247</td>\n",
              "      <td>0.690861</td>\n",
              "      <td>1.130069</td>\n",
              "      <td>0.890722</td>\n",
              "      <td>0.426515</td>\n",
              "      <td>1.283212</td>\n",
              "      <td>-0.563880</td>\n",
              "      <td>1.090046</td>\n",
              "      <td>1.327570</td>\n",
              "      <td>1.080762</td>\n",
              "      <td>1.588076</td>\n",
              "      <td>1.069615</td>\n",
              "      <td>1.258800</td>\n",
              "      <td>0.443045</td>\n",
              "      <td>0.415406</td>\n",
              "    </tr>\n",
              "    <tr>\n",
              "      <th>...</th>\n",
              "      <td>...</td>\n",
              "      <td>...</td>\n",
              "      <td>...</td>\n",
              "      <td>...</td>\n",
              "      <td>...</td>\n",
              "      <td>...</td>\n",
              "      <td>...</td>\n",
              "      <td>...</td>\n",
              "      <td>...</td>\n",
              "      <td>...</td>\n",
              "      <td>...</td>\n",
              "      <td>...</td>\n",
              "      <td>...</td>\n",
              "      <td>...</td>\n",
              "      <td>...</td>\n",
              "      <td>...</td>\n",
              "      <td>...</td>\n",
              "      <td>...</td>\n",
              "      <td>...</td>\n",
              "    </tr>\n",
              "    <tr>\n",
              "      <th>1499995</th>\n",
              "      <td>1499995</td>\n",
              "      <td>0.482755</td>\n",
              "      <td>1.204410</td>\n",
              "      <td>0.299445</td>\n",
              "      <td>0.780271</td>\n",
              "      <td>1.958697</td>\n",
              "      <td>0.938929</td>\n",
              "      <td>0.887801</td>\n",
              "      <td>-1.404129</td>\n",
              "      <td>1.332697</td>\n",
              "      <td>-0.456543</td>\n",
              "      <td>0.551233</td>\n",
              "      <td>0.957969</td>\n",
              "      <td>1.542171</td>\n",
              "      <td>1.982478</td>\n",
              "      <td>0.579808</td>\n",
              "      <td>1.481396</td>\n",
              "      <td>1.006600</td>\n",
              "      <td>0.189843</td>\n",
              "    </tr>\n",
              "    <tr>\n",
              "      <th>1499996</th>\n",
              "      <td>1499996</td>\n",
              "      <td>1.085361</td>\n",
              "      <td>0.861342</td>\n",
              "      <td>-1.356951</td>\n",
              "      <td>0.483685</td>\n",
              "      <td>0.059381</td>\n",
              "      <td>0.292341</td>\n",
              "      <td>0.340940</td>\n",
              "      <td>0.761038</td>\n",
              "      <td>0.380255</td>\n",
              "      <td>0.038984</td>\n",
              "      <td>0.774140</td>\n",
              "      <td>0.660777</td>\n",
              "      <td>0.757443</td>\n",
              "      <td>0.331105</td>\n",
              "      <td>0.715807</td>\n",
              "      <td>0.447304</td>\n",
              "      <td>0.320159</td>\n",
              "      <td>0.371521</td>\n",
              "    </tr>\n",
              "    <tr>\n",
              "      <th>1499997</th>\n",
              "      <td>1499997</td>\n",
              "      <td>1.339252</td>\n",
              "      <td>-1.753881</td>\n",
              "      <td>0.667430</td>\n",
              "      <td>1.279321</td>\n",
              "      <td>-0.125801</td>\n",
              "      <td>-1.025262</td>\n",
              "      <td>0.996305</td>\n",
              "      <td>-1.425422</td>\n",
              "      <td>1.005658</td>\n",
              "      <td>-0.529824</td>\n",
              "      <td>1.616218</td>\n",
              "      <td>1.278956</td>\n",
              "      <td>0.702218</td>\n",
              "      <td>0.541788</td>\n",
              "      <td>1.649413</td>\n",
              "      <td>1.139551</td>\n",
              "      <td>1.256152</td>\n",
              "      <td>0.159157</td>\n",
              "    </tr>\n",
              "    <tr>\n",
              "      <th>1499998</th>\n",
              "      <td>1499998</td>\n",
              "      <td>0.853325</td>\n",
              "      <td>-0.961783</td>\n",
              "      <td>-1.487277</td>\n",
              "      <td>0.678190</td>\n",
              "      <td>0.493580</td>\n",
              "      <td>1.647969</td>\n",
              "      <td>1.843867</td>\n",
              "      <td>0.276954</td>\n",
              "      <td>1.025105</td>\n",
              "      <td>-1.486535</td>\n",
              "      <td>0.892879</td>\n",
              "      <td>1.684429</td>\n",
              "      <td>1.674084</td>\n",
              "      <td>3.366298</td>\n",
              "      <td>1.046707</td>\n",
              "      <td>2.646649</td>\n",
              "      <td>1.389226</td>\n",
              "      <td>0.364599</td>\n",
              "    </tr>\n",
              "    <tr>\n",
              "      <th>1499999</th>\n",
              "      <td>1499999</td>\n",
              "      <td>0.840389</td>\n",
              "      <td>1.419162</td>\n",
              "      <td>-1.218766</td>\n",
              "      <td>1.195631</td>\n",
              "      <td>1.695645</td>\n",
              "      <td>0.663756</td>\n",
              "      <td>0.490888</td>\n",
              "      <td>-0.509186</td>\n",
              "      <td>0.704289</td>\n",
              "      <td>0.045744</td>\n",
              "      <td>0.825015</td>\n",
              "      <td>0.723530</td>\n",
              "      <td>0.778236</td>\n",
              "      <td>0.752942</td>\n",
              "      <td>0.838953</td>\n",
              "      <td>0.614048</td>\n",
              "      <td>1.210595</td>\n",
              "      <td>0.026692</td>\n",
              "    </tr>\n",
              "  </tbody>\n",
              "</table>\n",
              "<p>1500000 rows × 19 columns</p>\n",
              "</div>\n",
              "      <button class=\"colab-df-convert\" onclick=\"convertToInteractive('df-582cac56-e130-485a-8e62-71953e4b6d1a')\"\n",
              "              title=\"Convert this dataframe to an interactive table.\"\n",
              "              style=\"display:none;\">\n",
              "        \n",
              "  <svg xmlns=\"http://www.w3.org/2000/svg\" height=\"24px\"viewBox=\"0 0 24 24\"\n",
              "       width=\"24px\">\n",
              "    <path d=\"M0 0h24v24H0V0z\" fill=\"none\"/>\n",
              "    <path d=\"M18.56 5.44l.94 2.06.94-2.06 2.06-.94-2.06-.94-.94-2.06-.94 2.06-2.06.94zm-11 1L8.5 8.5l.94-2.06 2.06-.94-2.06-.94L8.5 2.5l-.94 2.06-2.06.94zm10 10l.94 2.06.94-2.06 2.06-.94-2.06-.94-.94-2.06-.94 2.06-2.06.94z\"/><path d=\"M17.41 7.96l-1.37-1.37c-.4-.4-.92-.59-1.43-.59-.52 0-1.04.2-1.43.59L10.3 9.45l-7.72 7.72c-.78.78-.78 2.05 0 2.83L4 21.41c.39.39.9.59 1.41.59.51 0 1.02-.2 1.41-.59l7.78-7.78 2.81-2.81c.8-.78.8-2.07 0-2.86zM5.41 20L4 18.59l7.72-7.72 1.47 1.35L5.41 20z\"/>\n",
              "  </svg>\n",
              "      </button>\n",
              "      \n",
              "  <style>\n",
              "    .colab-df-container {\n",
              "      display:flex;\n",
              "      flex-wrap:wrap;\n",
              "      gap: 12px;\n",
              "    }\n",
              "\n",
              "    .colab-df-convert {\n",
              "      background-color: #E8F0FE;\n",
              "      border: none;\n",
              "      border-radius: 50%;\n",
              "      cursor: pointer;\n",
              "      display: none;\n",
              "      fill: #1967D2;\n",
              "      height: 32px;\n",
              "      padding: 0 0 0 0;\n",
              "      width: 32px;\n",
              "    }\n",
              "\n",
              "    .colab-df-convert:hover {\n",
              "      background-color: #E2EBFA;\n",
              "      box-shadow: 0px 1px 2px rgba(60, 64, 67, 0.3), 0px 1px 3px 1px rgba(60, 64, 67, 0.15);\n",
              "      fill: #174EA6;\n",
              "    }\n",
              "\n",
              "    [theme=dark] .colab-df-convert {\n",
              "      background-color: #3B4455;\n",
              "      fill: #D2E3FC;\n",
              "    }\n",
              "\n",
              "    [theme=dark] .colab-df-convert:hover {\n",
              "      background-color: #434B5C;\n",
              "      box-shadow: 0px 1px 3px 1px rgba(0, 0, 0, 0.15);\n",
              "      filter: drop-shadow(0px 1px 2px rgba(0, 0, 0, 0.3));\n",
              "      fill: #FFFFFF;\n",
              "    }\n",
              "  </style>\n",
              "\n",
              "      <script>\n",
              "        const buttonEl =\n",
              "          document.querySelector('#df-582cac56-e130-485a-8e62-71953e4b6d1a button.colab-df-convert');\n",
              "        buttonEl.style.display =\n",
              "          google.colab.kernel.accessAllowed ? 'block' : 'none';\n",
              "\n",
              "        async function convertToInteractive(key) {\n",
              "          const element = document.querySelector('#df-582cac56-e130-485a-8e62-71953e4b6d1a');\n",
              "          const dataTable =\n",
              "            await google.colab.kernel.invokeFunction('convertToInteractive',\n",
              "                                                     [key], {});\n",
              "          if (!dataTable) return;\n",
              "\n",
              "          const docLinkHtml = 'Like what you see? Visit the ' +\n",
              "            '<a target=\"_blank\" href=https://colab.research.google.com/notebooks/data_table.ipynb>data table notebook</a>'\n",
              "            + ' to learn more about interactive tables.';\n",
              "          element.innerHTML = '';\n",
              "          dataTable['output_type'] = 'display_data';\n",
              "          await google.colab.output.renderOutput(dataTable, element);\n",
              "          const docLink = document.createElement('div');\n",
              "          docLink.innerHTML = docLinkHtml;\n",
              "          element.appendChild(docLink);\n",
              "        }\n",
              "      </script>\n",
              "    </div>\n",
              "  </div>\n",
              "  "
            ]
          },
          "metadata": {},
          "execution_count": 19
        }
      ]
    },
    {
      "cell_type": "code",
      "execution_count": null,
      "metadata": {
        "execution": {
          "iopub.execute_input": "2023-01-09T17:31:30.327290Z",
          "iopub.status.busy": "2023-01-09T17:31:30.326656Z",
          "iopub.status.idle": "2023-01-09T17:31:52.357276Z",
          "shell.execute_reply": "2023-01-09T17:31:52.355961Z",
          "shell.execute_reply.started": "2023-01-09T17:31:30.327254Z"
        },
        "trusted": true,
        "id": "cU1JW8aSuQK9"
      },
      "outputs": [],
      "source": [
        "'''train_df = pd.read_csv('/kaggle/input/train-testcsv/train.csv')\n",
        "test_df = pd.read_csv('/kaggle/input/train-testcsv/test.csv')'''"
      ]
    },
    {
      "cell_type": "code",
      "execution_count": null,
      "metadata": {
        "execution": {
          "iopub.execute_input": "2023-01-09T17:31:52.359657Z",
          "iopub.status.busy": "2023-01-09T17:31:52.359282Z",
          "iopub.status.idle": "2023-01-09T17:31:52.384499Z",
          "shell.execute_reply": "2023-01-09T17:31:52.383439Z",
          "shell.execute_reply.started": "2023-01-09T17:31:52.359624Z"
        },
        "trusted": true,
        "id": "jal91aKGuQK9",
        "outputId": "b582e2d6-cb08-467e-f016-561776c04a14"
      },
      "outputs": [
        {
          "data": {
            "text/html": [
              "<div>\n",
              "<style scoped>\n",
              "    .dataframe tbody tr th:only-of-type {\n",
              "        vertical-align: middle;\n",
              "    }\n",
              "\n",
              "    .dataframe tbody tr th {\n",
              "        vertical-align: top;\n",
              "    }\n",
              "\n",
              "    .dataframe thead th {\n",
              "        text-align: right;\n",
              "    }\n",
              "</style>\n",
              "<table border=\"1\" class=\"dataframe\">\n",
              "  <thead>\n",
              "    <tr style=\"text-align: right;\">\n",
              "      <th></th>\n",
              "      <th>Unnamed: 0</th>\n",
              "      <th>lepton_1_pT</th>\n",
              "      <th>lepton_1_eta</th>\n",
              "      <th>lepton_1_phi</th>\n",
              "      <th>lepton_2_pT</th>\n",
              "      <th>lepton_2_eta</th>\n",
              "      <th>lepton_2_phi</th>\n",
              "      <th>missing_energy_magnitude</th>\n",
              "      <th>missing_energy_phi</th>\n",
              "      <th>MET_rel</th>\n",
              "      <th>axial_MET</th>\n",
              "      <th>M_R</th>\n",
              "      <th>M_TR_2</th>\n",
              "      <th>R</th>\n",
              "      <th>MT2</th>\n",
              "      <th>S_R</th>\n",
              "      <th>M_Delta_R</th>\n",
              "      <th>dPhi_r_b</th>\n",
              "      <th>cos(theta_r1)</th>\n",
              "      <th>class</th>\n",
              "    </tr>\n",
              "  </thead>\n",
              "  <tbody>\n",
              "    <tr>\n",
              "      <th>0</th>\n",
              "      <td>0</td>\n",
              "      <td>0.841381</td>\n",
              "      <td>1.832647</td>\n",
              "      <td>-0.689286</td>\n",
              "      <td>0.781839</td>\n",
              "      <td>0.572864</td>\n",
              "      <td>1.577097</td>\n",
              "      <td>0.398978</td>\n",
              "      <td>-0.683847</td>\n",
              "      <td>0.001826</td>\n",
              "      <td>0.651397</td>\n",
              "      <td>0.865560</td>\n",
              "      <td>0.429017</td>\n",
              "      <td>0.439840</td>\n",
              "      <td>0.000000</td>\n",
              "      <td>0.796105</td>\n",
              "      <td>0.342497</td>\n",
              "      <td>0.461542</td>\n",
              "      <td>0.005710</td>\n",
              "      <td>0.0</td>\n",
              "    </tr>\n",
              "    <tr>\n",
              "      <th>1</th>\n",
              "      <td>1</td>\n",
              "      <td>0.663798</td>\n",
              "      <td>2.058290</td>\n",
              "      <td>0.681435</td>\n",
              "      <td>1.054036</td>\n",
              "      <td>0.575352</td>\n",
              "      <td>-1.001445</td>\n",
              "      <td>0.462154</td>\n",
              "      <td>-0.833411</td>\n",
              "      <td>0.199734</td>\n",
              "      <td>0.215158</td>\n",
              "      <td>0.949988</td>\n",
              "      <td>0.618046</td>\n",
              "      <td>0.577324</td>\n",
              "      <td>0.000000</td>\n",
              "      <td>0.962927</td>\n",
              "      <td>0.333800</td>\n",
              "      <td>1.455247</td>\n",
              "      <td>0.101246</td>\n",
              "      <td>0.0</td>\n",
              "    </tr>\n",
              "    <tr>\n",
              "      <th>2</th>\n",
              "      <td>2</td>\n",
              "      <td>1.792225</td>\n",
              "      <td>-1.099978</td>\n",
              "      <td>0.088109</td>\n",
              "      <td>0.573157</td>\n",
              "      <td>-0.472629</td>\n",
              "      <td>1.642084</td>\n",
              "      <td>1.203374</td>\n",
              "      <td>1.506731</td>\n",
              "      <td>0.457695</td>\n",
              "      <td>-0.640507</td>\n",
              "      <td>1.157024</td>\n",
              "      <td>1.585432</td>\n",
              "      <td>1.215963</td>\n",
              "      <td>0.000000</td>\n",
              "      <td>1.113292</td>\n",
              "      <td>0.645729</td>\n",
              "      <td>0.721326</td>\n",
              "      <td>0.613326</td>\n",
              "      <td>1.0</td>\n",
              "    </tr>\n",
              "    <tr>\n",
              "      <th>3</th>\n",
              "      <td>3</td>\n",
              "      <td>0.893018</td>\n",
              "      <td>0.297782</td>\n",
              "      <td>-1.274870</td>\n",
              "      <td>1.316164</td>\n",
              "      <td>1.593303</td>\n",
              "      <td>0.672115</td>\n",
              "      <td>0.307014</td>\n",
              "      <td>-1.189868</td>\n",
              "      <td>0.064561</td>\n",
              "      <td>0.430909</td>\n",
              "      <td>1.162625</td>\n",
              "      <td>0.548821</td>\n",
              "      <td>0.418897</td>\n",
              "      <td>0.163908</td>\n",
              "      <td>1.157707</td>\n",
              "      <td>0.298163</td>\n",
              "      <td>0.803802</td>\n",
              "      <td>0.038902</td>\n",
              "      <td>0.0</td>\n",
              "    </tr>\n",
              "    <tr>\n",
              "      <th>4</th>\n",
              "      <td>4</td>\n",
              "      <td>1.338997</td>\n",
              "      <td>0.350023</td>\n",
              "      <td>-1.518510</td>\n",
              "      <td>1.482963</td>\n",
              "      <td>-0.491807</td>\n",
              "      <td>0.340170</td>\n",
              "      <td>0.415071</td>\n",
              "      <td>-1.292034</td>\n",
              "      <td>0.240712</td>\n",
              "      <td>0.611775</td>\n",
              "      <td>1.307798</td>\n",
              "      <td>0.697804</td>\n",
              "      <td>0.473487</td>\n",
              "      <td>0.429977</td>\n",
              "      <td>1.287935</td>\n",
              "      <td>0.330327</td>\n",
              "      <td>0.717237</td>\n",
              "      <td>0.003147</td>\n",
              "      <td>1.0</td>\n",
              "    </tr>\n",
              "  </tbody>\n",
              "</table>\n",
              "</div>"
            ],
            "text/plain": [
              "   Unnamed: 0  lepton_1_pT  lepton_1_eta  lepton_1_phi  lepton_2_pT  \\\n",
              "0           0     0.841381      1.832647     -0.689286     0.781839   \n",
              "1           1     0.663798      2.058290      0.681435     1.054036   \n",
              "2           2     1.792225     -1.099978      0.088109     0.573157   \n",
              "3           3     0.893018      0.297782     -1.274870     1.316164   \n",
              "4           4     1.338997      0.350023     -1.518510     1.482963   \n",
              "\n",
              "   lepton_2_eta  lepton_2_phi  missing_energy_magnitude  missing_energy_phi  \\\n",
              "0      0.572864      1.577097                  0.398978           -0.683847   \n",
              "1      0.575352     -1.001445                  0.462154           -0.833411   \n",
              "2     -0.472629      1.642084                  1.203374            1.506731   \n",
              "3      1.593303      0.672115                  0.307014           -1.189868   \n",
              "4     -0.491807      0.340170                  0.415071           -1.292034   \n",
              "\n",
              "    MET_rel  axial_MET       M_R    M_TR_2         R       MT2       S_R  \\\n",
              "0  0.001826   0.651397  0.865560  0.429017  0.439840  0.000000  0.796105   \n",
              "1  0.199734   0.215158  0.949988  0.618046  0.577324  0.000000  0.962927   \n",
              "2  0.457695  -0.640507  1.157024  1.585432  1.215963  0.000000  1.113292   \n",
              "3  0.064561   0.430909  1.162625  0.548821  0.418897  0.163908  1.157707   \n",
              "4  0.240712   0.611775  1.307798  0.697804  0.473487  0.429977  1.287935   \n",
              "\n",
              "   M_Delta_R  dPhi_r_b  cos(theta_r1)  class  \n",
              "0   0.342497  0.461542       0.005710    0.0  \n",
              "1   0.333800  1.455247       0.101246    0.0  \n",
              "2   0.645729  0.721326       0.613326    1.0  \n",
              "3   0.298163  0.803802       0.038902    0.0  \n",
              "4   0.330327  0.717237       0.003147    1.0  "
            ]
          },
          "execution_count": 44,
          "metadata": {},
          "output_type": "execute_result"
        }
      ],
      "source": [
        "train_df.head(5)"
      ]
    },
    {
      "cell_type": "code",
      "execution_count": null,
      "metadata": {
        "execution": {
          "iopub.execute_input": "2023-01-09T17:31:52.387261Z",
          "iopub.status.busy": "2023-01-09T17:31:52.385985Z",
          "iopub.status.idle": "2023-01-09T17:31:52.412257Z",
          "shell.execute_reply": "2023-01-09T17:31:52.411089Z",
          "shell.execute_reply.started": "2023-01-09T17:31:52.387223Z"
        },
        "trusted": true,
        "id": "yxD2FItDuQK-",
        "outputId": "399f8627-239b-4f70-d43b-f682145a2315"
      },
      "outputs": [
        {
          "data": {
            "text/html": [
              "<div>\n",
              "<style scoped>\n",
              "    .dataframe tbody tr th:only-of-type {\n",
              "        vertical-align: middle;\n",
              "    }\n",
              "\n",
              "    .dataframe tbody tr th {\n",
              "        vertical-align: top;\n",
              "    }\n",
              "\n",
              "    .dataframe thead th {\n",
              "        text-align: right;\n",
              "    }\n",
              "</style>\n",
              "<table border=\"1\" class=\"dataframe\">\n",
              "  <thead>\n",
              "    <tr style=\"text-align: right;\">\n",
              "      <th></th>\n",
              "      <th>Unnamed: 0</th>\n",
              "      <th>lepton_1_pT</th>\n",
              "      <th>lepton_1_eta</th>\n",
              "      <th>lepton_1_phi</th>\n",
              "      <th>lepton_2_pT</th>\n",
              "      <th>lepton_2_eta</th>\n",
              "      <th>lepton_2_phi</th>\n",
              "      <th>missing_energy_magnitude</th>\n",
              "      <th>missing_energy_phi</th>\n",
              "      <th>MET_rel</th>\n",
              "      <th>axial_MET</th>\n",
              "      <th>M_R</th>\n",
              "      <th>M_TR_2</th>\n",
              "      <th>R</th>\n",
              "      <th>MT2</th>\n",
              "      <th>S_R</th>\n",
              "      <th>M_Delta_R</th>\n",
              "      <th>dPhi_r_b</th>\n",
              "      <th>cos(theta_r1)</th>\n",
              "    </tr>\n",
              "  </thead>\n",
              "  <tbody>\n",
              "    <tr>\n",
              "      <th>0</th>\n",
              "      <td>0</td>\n",
              "      <td>1.667973</td>\n",
              "      <td>0.064191</td>\n",
              "      <td>-1.225171</td>\n",
              "      <td>0.506102</td>\n",
              "      <td>-0.338939</td>\n",
              "      <td>1.672543</td>\n",
              "      <td>3.475464</td>\n",
              "      <td>-1.219136</td>\n",
              "      <td>0.012955</td>\n",
              "      <td>3.775174</td>\n",
              "      <td>1.045977</td>\n",
              "      <td>0.568051</td>\n",
              "      <td>0.481928</td>\n",
              "      <td>0.000000</td>\n",
              "      <td>0.448410</td>\n",
              "      <td>0.205356</td>\n",
              "      <td>1.321893</td>\n",
              "      <td>0.377584</td>\n",
              "    </tr>\n",
              "    <tr>\n",
              "      <th>1</th>\n",
              "      <td>1</td>\n",
              "      <td>0.698336</td>\n",
              "      <td>1.689431</td>\n",
              "      <td>-1.134670</td>\n",
              "      <td>0.966594</td>\n",
              "      <td>1.503367</td>\n",
              "      <td>0.880949</td>\n",
              "      <td>0.242573</td>\n",
              "      <td>-0.228654</td>\n",
              "      <td>0.364132</td>\n",
              "      <td>0.109350</td>\n",
              "      <td>0.668554</td>\n",
              "      <td>0.489941</td>\n",
              "      <td>0.650313</td>\n",
              "      <td>0.683634</td>\n",
              "      <td>0.664825</td>\n",
              "      <td>0.510385</td>\n",
              "      <td>0.584092</td>\n",
              "      <td>0.031694</td>\n",
              "    </tr>\n",
              "    <tr>\n",
              "      <th>2</th>\n",
              "      <td>2</td>\n",
              "      <td>0.578286</td>\n",
              "      <td>-0.689652</td>\n",
              "      <td>-0.390094</td>\n",
              "      <td>0.480061</td>\n",
              "      <td>-0.632219</td>\n",
              "      <td>1.212005</td>\n",
              "      <td>0.640473</td>\n",
              "      <td>-1.622401</td>\n",
              "      <td>0.872160</td>\n",
              "      <td>-0.186169</td>\n",
              "      <td>0.451853</td>\n",
              "      <td>0.669288</td>\n",
              "      <td>1.314412</td>\n",
              "      <td>0.559444</td>\n",
              "      <td>0.491753</td>\n",
              "      <td>0.559017</td>\n",
              "      <td>1.286520</td>\n",
              "      <td>0.400292</td>\n",
              "    </tr>\n",
              "    <tr>\n",
              "      <th>3</th>\n",
              "      <td>3</td>\n",
              "      <td>0.798202</td>\n",
              "      <td>0.099358</td>\n",
              "      <td>-1.095839</td>\n",
              "      <td>0.531147</td>\n",
              "      <td>-0.962327</td>\n",
              "      <td>1.500362</td>\n",
              "      <td>1.273941</td>\n",
              "      <td>0.675408</td>\n",
              "      <td>1.803743</td>\n",
              "      <td>-0.845941</td>\n",
              "      <td>0.685836</td>\n",
              "      <td>1.234757</td>\n",
              "      <td>1.597630</td>\n",
              "      <td>1.864630</td>\n",
              "      <td>0.775854</td>\n",
              "      <td>1.556949</td>\n",
              "      <td>1.245781</td>\n",
              "      <td>0.538010</td>\n",
              "    </tr>\n",
              "    <tr>\n",
              "      <th>4</th>\n",
              "      <td>4</td>\n",
              "      <td>1.466649</td>\n",
              "      <td>0.115517</td>\n",
              "      <td>-1.036161</td>\n",
              "      <td>0.877247</td>\n",
              "      <td>0.690861</td>\n",
              "      <td>1.130069</td>\n",
              "      <td>0.890722</td>\n",
              "      <td>0.426515</td>\n",
              "      <td>1.283212</td>\n",
              "      <td>-0.563880</td>\n",
              "      <td>1.090046</td>\n",
              "      <td>1.327570</td>\n",
              "      <td>1.080762</td>\n",
              "      <td>1.588076</td>\n",
              "      <td>1.069615</td>\n",
              "      <td>1.258800</td>\n",
              "      <td>0.443045</td>\n",
              "      <td>0.415406</td>\n",
              "    </tr>\n",
              "  </tbody>\n",
              "</table>\n",
              "</div>"
            ],
            "text/plain": [
              "   Unnamed: 0  lepton_1_pT  lepton_1_eta  lepton_1_phi  lepton_2_pT  \\\n",
              "0           0     1.667973      0.064191     -1.225171     0.506102   \n",
              "1           1     0.698336      1.689431     -1.134670     0.966594   \n",
              "2           2     0.578286     -0.689652     -0.390094     0.480061   \n",
              "3           3     0.798202      0.099358     -1.095839     0.531147   \n",
              "4           4     1.466649      0.115517     -1.036161     0.877247   \n",
              "\n",
              "   lepton_2_eta  lepton_2_phi  missing_energy_magnitude  missing_energy_phi  \\\n",
              "0     -0.338939      1.672543                  3.475464           -1.219136   \n",
              "1      1.503367      0.880949                  0.242573           -0.228654   \n",
              "2     -0.632219      1.212005                  0.640473           -1.622401   \n",
              "3     -0.962327      1.500362                  1.273941            0.675408   \n",
              "4      0.690861      1.130069                  0.890722            0.426515   \n",
              "\n",
              "    MET_rel  axial_MET       M_R    M_TR_2         R       MT2       S_R  \\\n",
              "0  0.012955   3.775174  1.045977  0.568051  0.481928  0.000000  0.448410   \n",
              "1  0.364132   0.109350  0.668554  0.489941  0.650313  0.683634  0.664825   \n",
              "2  0.872160  -0.186169  0.451853  0.669288  1.314412  0.559444  0.491753   \n",
              "3  1.803743  -0.845941  0.685836  1.234757  1.597630  1.864630  0.775854   \n",
              "4  1.283212  -0.563880  1.090046  1.327570  1.080762  1.588076  1.069615   \n",
              "\n",
              "   M_Delta_R  dPhi_r_b  cos(theta_r1)  \n",
              "0   0.205356  1.321893       0.377584  \n",
              "1   0.510385  0.584092       0.031694  \n",
              "2   0.559017  1.286520       0.400292  \n",
              "3   1.556949  1.245781       0.538010  \n",
              "4   1.258800  0.443045       0.415406  "
            ]
          },
          "execution_count": 45,
          "metadata": {},
          "output_type": "execute_result"
        }
      ],
      "source": [
        "test_df.head(5)"
      ]
    },
    {
      "cell_type": "code",
      "execution_count": null,
      "metadata": {
        "execution": {
          "iopub.execute_input": "2023-01-09T17:31:52.413916Z",
          "iopub.status.busy": "2023-01-09T17:31:52.413564Z",
          "iopub.status.idle": "2023-01-09T17:31:52.618013Z",
          "shell.execute_reply": "2023-01-09T17:31:52.616430Z",
          "shell.execute_reply.started": "2023-01-09T17:31:52.413881Z"
        },
        "trusted": true,
        "id": "SIqV4OkyuQK_"
      },
      "outputs": [],
      "source": [
        "train_df.drop('Unnamed: 0',axis = 1,inplace = True)"
      ]
    },
    {
      "cell_type": "code",
      "execution_count": null,
      "metadata": {
        "execution": {
          "iopub.execute_input": "2023-01-09T17:31:52.620063Z",
          "iopub.status.busy": "2023-01-09T17:31:52.619584Z",
          "iopub.status.idle": "2023-01-09T17:31:52.683370Z",
          "shell.execute_reply": "2023-01-09T17:31:52.681582Z",
          "shell.execute_reply.started": "2023-01-09T17:31:52.620003Z"
        },
        "trusted": true,
        "id": "YVoU1WMkuQLA"
      },
      "outputs": [],
      "source": [
        "test_df.drop('Unnamed: 0',axis = 1,inplace = True)"
      ]
    },
    {
      "cell_type": "code",
      "execution_count": null,
      "metadata": {
        "execution": {
          "iopub.execute_input": "2023-01-09T17:31:52.688194Z",
          "iopub.status.busy": "2023-01-09T17:31:52.687582Z",
          "iopub.status.idle": "2023-01-09T17:31:52.716251Z",
          "shell.execute_reply": "2023-01-09T17:31:52.715067Z",
          "shell.execute_reply.started": "2023-01-09T17:31:52.688153Z"
        },
        "trusted": true,
        "id": "VDK_qE29uQLA",
        "outputId": "569e4cc0-b939-41a8-dfdf-c48815be903c"
      },
      "outputs": [
        {
          "data": {
            "text/html": [
              "<div>\n",
              "<style scoped>\n",
              "    .dataframe tbody tr th:only-of-type {\n",
              "        vertical-align: middle;\n",
              "    }\n",
              "\n",
              "    .dataframe tbody tr th {\n",
              "        vertical-align: top;\n",
              "    }\n",
              "\n",
              "    .dataframe thead th {\n",
              "        text-align: right;\n",
              "    }\n",
              "</style>\n",
              "<table border=\"1\" class=\"dataframe\">\n",
              "  <thead>\n",
              "    <tr style=\"text-align: right;\">\n",
              "      <th></th>\n",
              "      <th>lepton_1_pT</th>\n",
              "      <th>lepton_1_eta</th>\n",
              "      <th>lepton_1_phi</th>\n",
              "      <th>lepton_2_pT</th>\n",
              "      <th>lepton_2_eta</th>\n",
              "      <th>lepton_2_phi</th>\n",
              "      <th>missing_energy_magnitude</th>\n",
              "      <th>missing_energy_phi</th>\n",
              "      <th>MET_rel</th>\n",
              "      <th>axial_MET</th>\n",
              "      <th>M_R</th>\n",
              "      <th>M_TR_2</th>\n",
              "      <th>R</th>\n",
              "      <th>MT2</th>\n",
              "      <th>S_R</th>\n",
              "      <th>M_Delta_R</th>\n",
              "      <th>dPhi_r_b</th>\n",
              "      <th>cos(theta_r1)</th>\n",
              "      <th>class</th>\n",
              "    </tr>\n",
              "  </thead>\n",
              "  <tbody>\n",
              "    <tr>\n",
              "      <th>0</th>\n",
              "      <td>0.841381</td>\n",
              "      <td>1.832647</td>\n",
              "      <td>-0.689286</td>\n",
              "      <td>0.781839</td>\n",
              "      <td>0.572864</td>\n",
              "      <td>1.577097</td>\n",
              "      <td>0.398978</td>\n",
              "      <td>-0.683847</td>\n",
              "      <td>0.001826</td>\n",
              "      <td>0.651397</td>\n",
              "      <td>0.865560</td>\n",
              "      <td>0.429017</td>\n",
              "      <td>0.439840</td>\n",
              "      <td>0.000000</td>\n",
              "      <td>0.796105</td>\n",
              "      <td>0.342497</td>\n",
              "      <td>0.461542</td>\n",
              "      <td>0.005710</td>\n",
              "      <td>0.0</td>\n",
              "    </tr>\n",
              "    <tr>\n",
              "      <th>1</th>\n",
              "      <td>0.663798</td>\n",
              "      <td>2.058290</td>\n",
              "      <td>0.681435</td>\n",
              "      <td>1.054036</td>\n",
              "      <td>0.575352</td>\n",
              "      <td>-1.001445</td>\n",
              "      <td>0.462154</td>\n",
              "      <td>-0.833411</td>\n",
              "      <td>0.199734</td>\n",
              "      <td>0.215158</td>\n",
              "      <td>0.949988</td>\n",
              "      <td>0.618046</td>\n",
              "      <td>0.577324</td>\n",
              "      <td>0.000000</td>\n",
              "      <td>0.962927</td>\n",
              "      <td>0.333800</td>\n",
              "      <td>1.455247</td>\n",
              "      <td>0.101246</td>\n",
              "      <td>0.0</td>\n",
              "    </tr>\n",
              "    <tr>\n",
              "      <th>2</th>\n",
              "      <td>1.792225</td>\n",
              "      <td>-1.099978</td>\n",
              "      <td>0.088109</td>\n",
              "      <td>0.573157</td>\n",
              "      <td>-0.472629</td>\n",
              "      <td>1.642084</td>\n",
              "      <td>1.203374</td>\n",
              "      <td>1.506731</td>\n",
              "      <td>0.457695</td>\n",
              "      <td>-0.640507</td>\n",
              "      <td>1.157024</td>\n",
              "      <td>1.585432</td>\n",
              "      <td>1.215963</td>\n",
              "      <td>0.000000</td>\n",
              "      <td>1.113292</td>\n",
              "      <td>0.645729</td>\n",
              "      <td>0.721326</td>\n",
              "      <td>0.613326</td>\n",
              "      <td>1.0</td>\n",
              "    </tr>\n",
              "    <tr>\n",
              "      <th>3</th>\n",
              "      <td>0.893018</td>\n",
              "      <td>0.297782</td>\n",
              "      <td>-1.274870</td>\n",
              "      <td>1.316164</td>\n",
              "      <td>1.593303</td>\n",
              "      <td>0.672115</td>\n",
              "      <td>0.307014</td>\n",
              "      <td>-1.189868</td>\n",
              "      <td>0.064561</td>\n",
              "      <td>0.430909</td>\n",
              "      <td>1.162625</td>\n",
              "      <td>0.548821</td>\n",
              "      <td>0.418897</td>\n",
              "      <td>0.163908</td>\n",
              "      <td>1.157707</td>\n",
              "      <td>0.298163</td>\n",
              "      <td>0.803802</td>\n",
              "      <td>0.038902</td>\n",
              "      <td>0.0</td>\n",
              "    </tr>\n",
              "    <tr>\n",
              "      <th>4</th>\n",
              "      <td>1.338997</td>\n",
              "      <td>0.350023</td>\n",
              "      <td>-1.518510</td>\n",
              "      <td>1.482963</td>\n",
              "      <td>-0.491807</td>\n",
              "      <td>0.340170</td>\n",
              "      <td>0.415071</td>\n",
              "      <td>-1.292034</td>\n",
              "      <td>0.240712</td>\n",
              "      <td>0.611775</td>\n",
              "      <td>1.307798</td>\n",
              "      <td>0.697804</td>\n",
              "      <td>0.473487</td>\n",
              "      <td>0.429977</td>\n",
              "      <td>1.287935</td>\n",
              "      <td>0.330327</td>\n",
              "      <td>0.717237</td>\n",
              "      <td>0.003147</td>\n",
              "      <td>1.0</td>\n",
              "    </tr>\n",
              "  </tbody>\n",
              "</table>\n",
              "</div>"
            ],
            "text/plain": [
              "   lepton_1_pT  lepton_1_eta  lepton_1_phi  lepton_2_pT  lepton_2_eta  \\\n",
              "0     0.841381      1.832647     -0.689286     0.781839      0.572864   \n",
              "1     0.663798      2.058290      0.681435     1.054036      0.575352   \n",
              "2     1.792225     -1.099978      0.088109     0.573157     -0.472629   \n",
              "3     0.893018      0.297782     -1.274870     1.316164      1.593303   \n",
              "4     1.338997      0.350023     -1.518510     1.482963     -0.491807   \n",
              "\n",
              "   lepton_2_phi  missing_energy_magnitude  missing_energy_phi   MET_rel  \\\n",
              "0      1.577097                  0.398978           -0.683847  0.001826   \n",
              "1     -1.001445                  0.462154           -0.833411  0.199734   \n",
              "2      1.642084                  1.203374            1.506731  0.457695   \n",
              "3      0.672115                  0.307014           -1.189868  0.064561   \n",
              "4      0.340170                  0.415071           -1.292034  0.240712   \n",
              "\n",
              "   axial_MET       M_R    M_TR_2         R       MT2       S_R  M_Delta_R  \\\n",
              "0   0.651397  0.865560  0.429017  0.439840  0.000000  0.796105   0.342497   \n",
              "1   0.215158  0.949988  0.618046  0.577324  0.000000  0.962927   0.333800   \n",
              "2  -0.640507  1.157024  1.585432  1.215963  0.000000  1.113292   0.645729   \n",
              "3   0.430909  1.162625  0.548821  0.418897  0.163908  1.157707   0.298163   \n",
              "4   0.611775  1.307798  0.697804  0.473487  0.429977  1.287935   0.330327   \n",
              "\n",
              "   dPhi_r_b  cos(theta_r1)  class  \n",
              "0  0.461542       0.005710    0.0  \n",
              "1  1.455247       0.101246    0.0  \n",
              "2  0.721326       0.613326    1.0  \n",
              "3  0.803802       0.038902    0.0  \n",
              "4  0.717237       0.003147    1.0  "
            ]
          },
          "execution_count": 48,
          "metadata": {},
          "output_type": "execute_result"
        }
      ],
      "source": [
        "train_df.head(5)"
      ]
    },
    {
      "cell_type": "code",
      "execution_count": null,
      "metadata": {
        "execution": {
          "iopub.execute_input": "2023-01-09T17:31:52.717990Z",
          "iopub.status.busy": "2023-01-09T17:31:52.717639Z",
          "iopub.status.idle": "2023-01-09T17:31:52.874899Z",
          "shell.execute_reply": "2023-01-09T17:31:52.873761Z",
          "shell.execute_reply.started": "2023-01-09T17:31:52.717960Z"
        },
        "trusted": true,
        "id": "qefWnXOsuQLB",
        "outputId": "934478d5-e4cf-4bdd-974d-a494a390718b"
      },
      "outputs": [
        {
          "data": {
            "text/plain": [
              "lepton_1_pT                 0\n",
              "lepton_1_eta                0\n",
              "lepton_1_phi                0\n",
              "lepton_2_pT                 0\n",
              "lepton_2_eta                0\n",
              "lepton_2_phi                0\n",
              "missing_energy_magnitude    0\n",
              "missing_energy_phi          0\n",
              "MET_rel                     0\n",
              "axial_MET                   0\n",
              "M_R                         0\n",
              "M_TR_2                      0\n",
              "R                           0\n",
              "MT2                         0\n",
              "S_R                         0\n",
              "M_Delta_R                   0\n",
              "dPhi_r_b                    0\n",
              "cos(theta_r1)               0\n",
              "class                       0\n",
              "dtype: int64"
            ]
          },
          "execution_count": 49,
          "metadata": {},
          "output_type": "execute_result"
        }
      ],
      "source": [
        "train_df.isnull().sum()"
      ]
    },
    {
      "cell_type": "code",
      "execution_count": null,
      "metadata": {
        "execution": {
          "iopub.execute_input": "2023-01-09T17:31:52.877905Z",
          "iopub.status.busy": "2023-01-09T17:31:52.877398Z",
          "iopub.status.idle": "2023-01-09T17:31:52.947796Z",
          "shell.execute_reply": "2023-01-09T17:31:52.946610Z",
          "shell.execute_reply.started": "2023-01-09T17:31:52.877869Z"
        },
        "trusted": true,
        "id": "KC83UrIBuQLB",
        "outputId": "8e26cb7d-8e4b-4dc6-9663-1abb2c6142c8"
      },
      "outputs": [
        {
          "data": {
            "text/plain": [
              "lepton_1_pT                 0\n",
              "lepton_1_eta                0\n",
              "lepton_1_phi                0\n",
              "lepton_2_pT                 0\n",
              "lepton_2_eta                0\n",
              "lepton_2_phi                0\n",
              "missing_energy_magnitude    0\n",
              "missing_energy_phi          0\n",
              "MET_rel                     0\n",
              "axial_MET                   0\n",
              "M_R                         0\n",
              "M_TR_2                      0\n",
              "R                           0\n",
              "MT2                         0\n",
              "S_R                         0\n",
              "M_Delta_R                   0\n",
              "dPhi_r_b                    0\n",
              "cos(theta_r1)               0\n",
              "dtype: int64"
            ]
          },
          "execution_count": 50,
          "metadata": {},
          "output_type": "execute_result"
        }
      ],
      "source": [
        "test_df.isnull().sum()"
      ]
    },
    {
      "cell_type": "markdown",
      "metadata": {
        "id": "6rN_gSdWuQLC"
      },
      "source": [
        "**There are no null values in the entire train and test data**"
      ]
    },
    {
      "cell_type": "code",
      "execution_count": null,
      "metadata": {
        "execution": {
          "iopub.execute_input": "2023-01-09T17:31:52.949437Z",
          "iopub.status.busy": "2023-01-09T17:31:52.949069Z",
          "iopub.status.idle": "2023-01-09T17:31:57.850722Z",
          "shell.execute_reply": "2023-01-09T17:31:57.849202Z",
          "shell.execute_reply.started": "2023-01-09T17:31:52.949406Z"
        },
        "trusted": true,
        "id": "OpNBxFxYuQLC",
        "outputId": "d67130be-059e-44bb-8c0e-68062490a284"
      },
      "outputs": [
        {
          "data": {
            "image/png": "[encoded data removed]",
            "text/plain": [
              "<Figure size 1440x1440 with 20 Axes>"
            ]
          },
          "metadata": {
            "needs_background": "light"
          },
          "output_type": "display_data"
        }
      ],
      "source": [
        "train_df.hist(figsize=(20,20))\n",
        "plt.show()"
      ]
    },
    {
      "cell_type": "code",
      "execution_count": null,
      "metadata": {
        "execution": {
          "iopub.execute_input": "2023-01-09T17:31:57.853074Z",
          "iopub.status.busy": "2023-01-09T17:31:57.852116Z",
          "iopub.status.idle": "2023-01-09T17:32:01.141395Z",
          "shell.execute_reply": "2023-01-09T17:32:01.140103Z",
          "shell.execute_reply.started": "2023-01-09T17:31:57.853035Z"
        },
        "trusted": true,
        "id": "C9N91_3auQLC",
        "outputId": "d08be61a-c0d0-4e99-8636-a0f38311c303"
      },
      "outputs": [
        {
          "data": {
            "text/html": [
              "<div>\n",
              "<style scoped>\n",
              "    .dataframe tbody tr th:only-of-type {\n",
              "        vertical-align: middle;\n",
              "    }\n",
              "\n",
              "    .dataframe tbody tr th {\n",
              "        vertical-align: top;\n",
              "    }\n",
              "\n",
              "    .dataframe thead th {\n",
              "        text-align: right;\n",
              "    }\n",
              "</style>\n",
              "<table border=\"1\" class=\"dataframe\">\n",
              "  <thead>\n",
              "    <tr style=\"text-align: right;\">\n",
              "      <th></th>\n",
              "      <th>lepton_1_pT</th>\n",
              "      <th>lepton_1_eta</th>\n",
              "      <th>lepton_1_phi</th>\n",
              "      <th>lepton_2_pT</th>\n",
              "      <th>lepton_2_eta</th>\n",
              "      <th>lepton_2_phi</th>\n",
              "      <th>missing_energy_magnitude</th>\n",
              "      <th>missing_energy_phi</th>\n",
              "      <th>MET_rel</th>\n",
              "      <th>axial_MET</th>\n",
              "      <th>M_R</th>\n",
              "      <th>M_TR_2</th>\n",
              "      <th>R</th>\n",
              "      <th>MT2</th>\n",
              "      <th>S_R</th>\n",
              "      <th>M_Delta_R</th>\n",
              "      <th>dPhi_r_b</th>\n",
              "      <th>cos(theta_r1)</th>\n",
              "      <th>class</th>\n",
              "    </tr>\n",
              "  </thead>\n",
              "  <tbody>\n",
              "    <tr>\n",
              "      <th>count</th>\n",
              "      <td>3.500000e+06</td>\n",
              "      <td>3.500000e+06</td>\n",
              "      <td>3.500000e+06</td>\n",
              "      <td>3.500000e+06</td>\n",
              "      <td>3.500000e+06</td>\n",
              "      <td>3.500000e+06</td>\n",
              "      <td>3.500000e+06</td>\n",
              "      <td>3.500000e+06</td>\n",
              "      <td>3.500000e+06</td>\n",
              "      <td>3.500000e+06</td>\n",
              "      <td>3.500000e+06</td>\n",
              "      <td>3.500000e+06</td>\n",
              "      <td>3.500000e+06</td>\n",
              "      <td>3.500000e+06</td>\n",
              "      <td>3.500000e+06</td>\n",
              "      <td>3.500000e+06</td>\n",
              "      <td>3.500000e+06</td>\n",
              "      <td>3.500000e+06</td>\n",
              "      <td>3.500000e+06</td>\n",
              "    </tr>\n",
              "    <tr>\n",
              "      <th>mean</th>\n",
              "      <td>1.000232e+00</td>\n",
              "      <td>3.599349e-04</td>\n",
              "      <td>3.409634e-04</td>\n",
              "      <td>9.992382e-01</td>\n",
              "      <td>3.546249e-04</td>\n",
              "      <td>-2.609503e-04</td>\n",
              "      <td>9.994536e-01</td>\n",
              "      <td>-4.940216e-04</td>\n",
              "      <td>1.000944e+00</td>\n",
              "      <td>-8.176786e-05</td>\n",
              "      <td>1.000253e+00</td>\n",
              "      <td>9.996171e-01</td>\n",
              "      <td>9.998163e-01</td>\n",
              "      <td>1.000160e+00</td>\n",
              "      <td>9.999674e-01</td>\n",
              "      <td>9.997972e-01</td>\n",
              "      <td>9.992375e-01</td>\n",
              "      <td>2.248649e-01</td>\n",
              "      <td>4.572371e-01</td>\n",
              "    </tr>\n",
              "    <tr>\n",
              "      <th>std</th>\n",
              "      <td>6.873955e-01</td>\n",
              "      <td>1.003109e+00</td>\n",
              "      <td>1.001971e+00</td>\n",
              "      <td>6.537354e-01</td>\n",
              "      <td>1.002817e+00</td>\n",
              "      <td>1.001447e+00</td>\n",
              "      <td>8.724024e-01</td>\n",
              "      <td>1.001655e+00</td>\n",
              "      <td>8.897569e-01</td>\n",
              "      <td>1.000707e+00</td>\n",
              "      <td>6.286597e-01</td>\n",
              "      <td>5.839003e-01</td>\n",
              "      <td>4.711496e-01</td>\n",
              "      <td>8.590315e-01</td>\n",
              "      <td>6.205179e-01</td>\n",
              "      <td>6.235858e-01</td>\n",
              "      <td>4.361374e-01</td>\n",
              "      <td>1.970049e-01</td>\n",
              "      <td>4.981681e-01</td>\n",
              "    </tr>\n",
              "    <tr>\n",
              "      <th>min</th>\n",
              "      <td>2.548815e-01</td>\n",
              "      <td>-2.102919e+00</td>\n",
              "      <td>-1.734789e+00</td>\n",
              "      <td>4.285860e-01</td>\n",
              "      <td>-2.059306e+00</td>\n",
              "      <td>-1.734202e+00</td>\n",
              "      <td>7.199480e-04</td>\n",
              "      <td>-1.727112e+00</td>\n",
              "      <td>7.693475e-08</td>\n",
              "      <td>-1.533509e+01</td>\n",
              "      <td>2.680643e-01</td>\n",
              "      <td>2.427395e-03</td>\n",
              "      <td>4.528082e-03</td>\n",
              "      <td>0.000000e+00</td>\n",
              "      <td>2.734135e-02</td>\n",
              "      <td>4.452858e-03</td>\n",
              "      <td>3.211849e-07</td>\n",
              "      <td>1.498080e-07</td>\n",
              "      <td>0.000000e+00</td>\n",
              "    </tr>\n",
              "    <tr>\n",
              "      <th>25%</th>\n",
              "      <td>5.625003e-01</td>\n",
              "      <td>-7.569637e-01</td>\n",
              "      <td>-8.673235e-01</td>\n",
              "      <td>5.969753e-01</td>\n",
              "      <td>-7.693463e-01</td>\n",
              "      <td>-8.680870e-01</td>\n",
              "      <td>4.781798e-01</td>\n",
              "      <td>-8.663442e-01</td>\n",
              "      <td>3.689606e-01</td>\n",
              "      <td>-4.920890e-01</td>\n",
              "      <td>5.883102e-01</td>\n",
              "      <td>6.222096e-01</td>\n",
              "      <td>6.503162e-01</td>\n",
              "      <td>1.708098e-01</td>\n",
              "      <td>5.984608e-01</td>\n",
              "      <td>5.134528e-01</td>\n",
              "      <td>6.874365e-01</td>\n",
              "      <td>6.910075e-02</td>\n",
              "      <td>0.000000e+00</td>\n",
              "    </tr>\n",
              "    <tr>\n",
              "      <th>50%</th>\n",
              "      <td>7.913588e-01</td>\n",
              "      <td>6.139759e-04</td>\n",
              "      <td>-3.000550e-04</td>\n",
              "      <td>7.997329e-01</td>\n",
              "      <td>1.132228e-04</td>\n",
              "      <td>-3.504302e-04</td>\n",
              "      <td>7.734768e-01</td>\n",
              "      <td>-1.038813e-02</td>\n",
              "      <td>8.017117e-01</td>\n",
              "      <td>-8.002724e-02</td>\n",
              "      <td>8.284981e-01</td>\n",
              "      <td>8.778247e-01</td>\n",
              "      <td>9.341271e-01</td>\n",
              "      <td>9.014440e-01</td>\n",
              "      <td>8.353698e-01</td>\n",
              "      <td>9.137308e-01</td>\n",
              "      <td>1.094097e+00</td>\n",
              "      <td>1.671680e-01</td>\n",
              "      <td>0.000000e+00</td>\n",
              "    </tr>\n",
              "    <tr>\n",
              "      <th>75%</th>\n",
              "      <td>1.204264e+00</td>\n",
              "      <td>7.581109e-01</td>\n",
              "      <td>8.681473e-01</td>\n",
              "      <td>1.161961e+00</td>\n",
              "      <td>7.698279e-01</td>\n",
              "      <td>8.670100e-01</td>\n",
              "      <td>1.206897e+00</td>\n",
              "      <td>8.681880e-01</td>\n",
              "      <td>1.374708e+00</td>\n",
              "      <td>3.489328e-01</td>\n",
              "      <td>1.210956e+00</td>\n",
              "      <td>1.219851e+00</td>\n",
              "      <td>1.283126e+00</td>\n",
              "      <td>1.612343e+00</td>\n",
              "      <td>1.207777e+00</td>\n",
              "      <td>1.383827e+00</td>\n",
              "      <td>1.369023e+00</td>\n",
              "      <td>3.301480e-01</td>\n",
              "      <td>1.000000e+00</td>\n",
              "    </tr>\n",
              "    <tr>\n",
              "      <th>max</th>\n",
              "      <td>2.055345e+01</td>\n",
              "      <td>2.101605e+00</td>\n",
              "      <td>1.734839e+00</td>\n",
              "      <td>3.303562e+01</td>\n",
              "      <td>2.059721e+00</td>\n",
              "      <td>1.734686e+00</td>\n",
              "      <td>2.106888e+01</td>\n",
              "      <td>1.740689e+00</td>\n",
              "      <td>2.338644e+01</td>\n",
              "      <td>1.959220e+01</td>\n",
              "      <td>2.107572e+01</td>\n",
              "      <td>1.616682e+01</td>\n",
              "      <td>6.731210e+00</td>\n",
              "      <td>2.068624e+01</td>\n",
              "      <td>2.115226e+01</td>\n",
              "      <td>1.561370e+01</td>\n",
              "      <td>1.591660e+00</td>\n",
              "      <td>1.000000e+00</td>\n",
              "      <td>1.000000e+00</td>\n",
              "    </tr>\n",
              "  </tbody>\n",
              "</table>\n",
              "</div>"
            ],
            "text/plain": [
              "        lepton_1_pT  lepton_1_eta  lepton_1_phi   lepton_2_pT  lepton_2_eta  \\\n",
              "count  3.500000e+06  3.500000e+06  3.500000e+06  3.500000e+06  3.500000e+06   \n",
              "mean   1.000232e+00  3.599349e-04  3.409634e-04  9.992382e-01  3.546249e-04   \n",
              "std    6.873955e-01  1.003109e+00  1.001971e+00  6.537354e-01  1.002817e+00   \n",
              "min    2.548815e-01 -2.102919e+00 -1.734789e+00  4.285860e-01 -2.059306e+00   \n",
              "25%    5.625003e-01 -7.569637e-01 -8.673235e-01  5.969753e-01 -7.693463e-01   \n",
              "50%    7.913588e-01  6.139759e-04 -3.000550e-04  7.997329e-01  1.132228e-04   \n",
              "75%    1.204264e+00  7.581109e-01  8.681473e-01  1.161961e+00  7.698279e-01   \n",
              "max    2.055345e+01  2.101605e+00  1.734839e+00  3.303562e+01  2.059721e+00   \n",
              "\n",
              "       lepton_2_phi  missing_energy_magnitude  missing_energy_phi  \\\n",
              "count  3.500000e+06              3.500000e+06        3.500000e+06   \n",
              "mean  -2.609503e-04              9.994536e-01       -4.940216e-04   \n",
              "std    1.001447e+00              8.724024e-01        1.001655e+00   \n",
              "min   -1.734202e+00              7.199480e-04       -1.727112e+00   \n",
              "25%   -8.680870e-01              4.781798e-01       -8.663442e-01   \n",
              "50%   -3.504302e-04              7.734768e-01       -1.038813e-02   \n",
              "75%    8.670100e-01              1.206897e+00        8.681880e-01   \n",
              "max    1.734686e+00              2.106888e+01        1.740689e+00   \n",
              "\n",
              "            MET_rel     axial_MET           M_R        M_TR_2             R  \\\n",
              "count  3.500000e+06  3.500000e+06  3.500000e+06  3.500000e+06  3.500000e+06   \n",
              "mean   1.000944e+00 -8.176786e-05  1.000253e+00  9.996171e-01  9.998163e-01   \n",
              "std    8.897569e-01  1.000707e+00  6.286597e-01  5.839003e-01  4.711496e-01   \n",
              "min    7.693475e-08 -1.533509e+01  2.680643e-01  2.427395e-03  4.528082e-03   \n",
              "25%    3.689606e-01 -4.920890e-01  5.883102e-01  6.222096e-01  6.503162e-01   \n",
              "50%    8.017117e-01 -8.002724e-02  8.284981e-01  8.778247e-01  9.341271e-01   \n",
              "75%    1.374708e+00  3.489328e-01  1.210956e+00  1.219851e+00  1.283126e+00   \n",
              "max    2.338644e+01  1.959220e+01  2.107572e+01  1.616682e+01  6.731210e+00   \n",
              "\n",
              "                MT2           S_R     M_Delta_R      dPhi_r_b  cos(theta_r1)  \\\n",
              "count  3.500000e+06  3.500000e+06  3.500000e+06  3.500000e+06   3.500000e+06   \n",
              "mean   1.000160e+00  9.999674e-01  9.997972e-01  9.992375e-01   2.248649e-01   \n",
              "std    8.590315e-01  6.205179e-01  6.235858e-01  4.361374e-01   1.970049e-01   \n",
              "min    0.000000e+00  2.734135e-02  4.452858e-03  3.211849e-07   1.498080e-07   \n",
              "25%    1.708098e-01  5.984608e-01  5.134528e-01  6.874365e-01   6.910075e-02   \n",
              "50%    9.014440e-01  8.353698e-01  9.137308e-01  1.094097e+00   1.671680e-01   \n",
              "75%    1.612343e+00  1.207777e+00  1.383827e+00  1.369023e+00   3.301480e-01   \n",
              "max    2.068624e+01  2.115226e+01  1.561370e+01  1.591660e+00   1.000000e+00   \n",
              "\n",
              "              class  \n",
              "count  3.500000e+06  \n",
              "mean   4.572371e-01  \n",
              "std    4.981681e-01  \n",
              "min    0.000000e+00  \n",
              "25%    0.000000e+00  \n",
              "50%    0.000000e+00  \n",
              "75%    1.000000e+00  \n",
              "max    1.000000e+00  "
            ]
          },
          "execution_count": 52,
          "metadata": {},
          "output_type": "execute_result"
        }
      ],
      "source": [
        "train_df.describe()"
      ]
    },
    {
      "cell_type": "markdown",
      "metadata": {
        "id": "81-E_bK3uQLD"
      },
      "source": [
        "**Splitting the dataset into train and test. Also dividing the data into feature set and label set. The label column is the 'class' column in the dataset.\n",
        "Train and test are given to us.**"
      ]
    },
    {
      "cell_type": "code",
      "execution_count": null,
      "metadata": {
        "execution": {
          "iopub.execute_input": "2023-01-09T17:32:01.143088Z",
          "iopub.status.busy": "2023-01-09T17:32:01.142737Z",
          "iopub.status.idle": "2023-01-09T17:32:01.324053Z",
          "shell.execute_reply": "2023-01-09T17:32:01.322298Z",
          "shell.execute_reply.started": "2023-01-09T17:32:01.143056Z"
        },
        "trusted": true,
        "id": "MuM11JibuQLD"
      },
      "outputs": [],
      "source": [
        "X_train = train_df.drop('class',axis = 1)\n",
        "y_train = train_df['class']\n",
        "X_test = test_df"
      ]
    },
    {
      "cell_type": "code",
      "execution_count": null,
      "metadata": {
        "execution": {
          "iopub.execute_input": "2023-01-09T17:32:01.326349Z",
          "iopub.status.busy": "2023-01-09T17:32:01.325901Z",
          "iopub.status.idle": "2023-01-09T17:32:01.996664Z",
          "shell.execute_reply": "2023-01-09T17:32:01.995349Z",
          "shell.execute_reply.started": "2023-01-09T17:32:01.326311Z"
        },
        "trusted": true,
        "id": "WR3U2dS9uQLD",
        "outputId": "c73c2236-8e2d-429c-aa4f-ec46c6417cce"
      },
      "outputs": [
        {
          "data": {
            "text/plain": [
              "StandardScaler()"
            ]
          },
          "execution_count": 54,
          "metadata": {},
          "output_type": "execute_result"
        }
      ],
      "source": [
        "from sklearn.preprocessing import StandardScaler\n",
        "std = StandardScaler()\n",
        "std.fit(X_train)"
      ]
    },
    {
      "cell_type": "markdown",
      "metadata": {
        "id": "Wsyw6wUduQLE"
      },
      "source": [
        "# Model Building:"
      ]
    },
    {
      "cell_type": "markdown",
      "metadata": {
        "id": "hvDR18LfuQLE"
      },
      "source": [
        "My approach was to apply the models which i have come across due course, so as to maximize my learning.\n",
        "\n",
        "I used 'Hands On Machine Learning' book for referring to these models.\n",
        "\n",
        "The rationale behind using each classifier is given when they are present in the notebook.\n",
        "\n",
        "I looked at all these models:\n",
        "\n",
        "1) Logistic Regression\n",
        "\n",
        "2) Decision Tree\n",
        "\n",
        "3) Random Forest\n",
        "\n",
        "4) AdaBoost\n",
        "\n",
        "5) Gradient Boosting\n",
        "\n",
        "6) XGboost\n",
        "\n",
        "7) Histogram Based Gradient Boosting\n",
        "\n",
        "The rationale behing not using Support Vector Machines is that the basic vanilla SVM model itself took more than 1 hour for training. That is why I thought of not using SVM.\n",
        "This was the same case for Voting Classifier as well as Stacking Classifier.\n"
      ]
    },
    {
      "cell_type": "markdown",
      "metadata": {
        "id": "7zB14d34uQLE"
      },
      "source": [
        "# **Logistic Regression:**"
      ]
    },
    {
      "cell_type": "code",
      "execution_count": null,
      "metadata": {
        "execution": {
          "iopub.execute_input": "2023-01-09T17:32:01.998556Z",
          "iopub.status.busy": "2023-01-09T17:32:01.998057Z",
          "iopub.status.idle": "2023-01-09T17:32:02.007821Z",
          "shell.execute_reply": "2023-01-09T17:32:02.006366Z",
          "shell.execute_reply.started": "2023-01-09T17:32:01.998506Z"
        },
        "trusted": true,
        "id": "rLG3om9quQLF",
        "outputId": "2691a8c0-45d6-458b-eae6-c961c981516b"
      },
      "outputs": [
        {
          "data": {
            "text/plain": [
              "\"from sklearn.linear_model import LogisticRegression\\nmodel_logreg = LogisticRegression()\\nmodel_logreg.fit(X_train,y_train)\\ny_pred = model_logreg.predict(X_test)\\ny_pred=pd.DataFrame(y_pred)\\ny_pred=y_pred.astype('float64')\\ny_pred.to_csv(path_or_buf='y_pred_log_reg.csv',header=['class'],index_label='Id')\""
            ]
          },
          "execution_count": 55,
          "metadata": {},
          "output_type": "execute_result"
        }
      ],
      "source": [
        "'''from sklearn.linear_model import LogisticRegression\n",
        "model_logreg = LogisticRegression()\n",
        "model_logreg.fit(X_train,y_train)\n",
        "y_pred = model_logreg.predict(X_test)\n",
        "y_pred=pd.DataFrame(y_pred)\n",
        "y_pred=y_pred.astype('float64')\n",
        "y_pred.to_csv(path_or_buf='y_pred_log_reg.csv',header=['class'],index_label='Id')'''"
      ]
    },
    {
      "cell_type": "markdown",
      "metadata": {
        "id": "7uldVTQXuQLF"
      },
      "source": [
        "# **Decision Tree:**"
      ]
    },
    {
      "cell_type": "markdown",
      "metadata": {
        "id": "MxLzWCZ5uQLF"
      },
      "source": [
        "**My rationale for using Decision tree clasiifier over logistic regression**\n",
        "\n",
        "**Decison tree is a non linear model. Given the complexity of data, I believe a non linea rmodel will give better accuracy on the test data.**"
      ]
    },
    {
      "cell_type": "code",
      "execution_count": null,
      "metadata": {
        "execution": {
          "iopub.execute_input": "2023-01-09T17:32:02.009764Z",
          "iopub.status.busy": "2023-01-09T17:32:02.009369Z",
          "iopub.status.idle": "2023-01-09T17:32:02.022357Z",
          "shell.execute_reply": "2023-01-09T17:32:02.020994Z",
          "shell.execute_reply.started": "2023-01-09T17:32:02.009733Z"
        },
        "trusted": true,
        "id": "Km0PdTTRuQLF",
        "outputId": "4ade86c5-51c1-4ca8-f2e1-8dfed616d56d"
      },
      "outputs": [
        {
          "data": {
            "text/plain": [
              "\"from sklearn.tree import DecisionTreeClassifier\\nmodel_dt = DecisionTreeClassifier()\\nmodel_dt.fit(X_train,y_train)\\ny_pred = model_dt.predict(X_test)\\ny_pred=pd.DataFrame(y_pred)\\ny_pred=y_pred.astype('float64')\\ny_pred.to_csv(path_or_buf='y_pred_dt.csv',header=['class'],index_label='Id')\""
            ]
          },
          "execution_count": 56,
          "metadata": {},
          "output_type": "execute_result"
        }
      ],
      "source": [
        "'''from sklearn.tree import DecisionTreeClassifier\n",
        "model_dt = DecisionTreeClassifier()\n",
        "model_dt.fit(X_train,y_train)\n",
        "y_pred = model_dt.predict(X_test)\n",
        "y_pred=pd.DataFrame(y_pred)\n",
        "y_pred=y_pred.astype('float64')\n",
        "y_pred.to_csv(path_or_buf='y_pred_dt.csv',header=['class'],index_label='Id')'''"
      ]
    },
    {
      "cell_type": "markdown",
      "metadata": {
        "id": "fSOuNnDMuQLG"
      },
      "source": [
        "**Accuracy is 0.7551**"
      ]
    },
    {
      "cell_type": "markdown",
      "metadata": {
        "id": "6eruYkpDuQLG"
      },
      "source": [
        "**Cross Validation:**"
      ]
    },
    {
      "cell_type": "code",
      "execution_count": null,
      "metadata": {
        "execution": {
          "iopub.execute_input": "2023-01-09T17:32:02.024188Z",
          "iopub.status.busy": "2023-01-09T17:32:02.023802Z",
          "iopub.status.idle": "2023-01-09T17:32:02.037976Z",
          "shell.execute_reply": "2023-01-09T17:32:02.036353Z",
          "shell.execute_reply.started": "2023-01-09T17:32:02.024155Z"
        },
        "trusted": true,
        "id": "tsUOOmCsuQLG",
        "outputId": "f41d14cd-ca60-48b5-c4b9-9c9233a81742"
      },
      "outputs": [
        {
          "data": {
            "text/plain": [
              "\"from sklearn.model_selection import GridSearchCV\\nparam_grid = {'max_depth' : [1,2,3,4,5,6,7,8],\\n              'criterion' : ['gini','entropy']}\\ngs_dt = GridSearchCV(model_dt,param_grid = param_grid,cv = 5)\\ngs_dt.fit(X_train,y_train)\\ngs_dt.best_params_\""
            ]
          },
          "execution_count": 57,
          "metadata": {},
          "output_type": "execute_result"
        }
      ],
      "source": [
        "'''from sklearn.model_selection import GridSearchCV\n",
        "param_grid = {'max_depth' : [1,2,3,4,5,6,7,8],\n",
        "              'criterion' : ['gini','entropy']}\n",
        "gs_dt = GridSearchCV(model_dt,param_grid = param_grid,cv = 5)\n",
        "gs_dt.fit(X_train,y_train)\n",
        "gs_dt.best_params_'''"
      ]
    },
    {
      "cell_type": "markdown",
      "metadata": {
        "id": "KtFSdjcsuQLG"
      },
      "source": [
        "**Best model**"
      ]
    },
    {
      "cell_type": "code",
      "execution_count": null,
      "metadata": {
        "execution": {
          "iopub.execute_input": "2023-01-09T17:32:02.040068Z",
          "iopub.status.busy": "2023-01-09T17:32:02.039689Z",
          "iopub.status.idle": "2023-01-09T17:32:02.054060Z",
          "shell.execute_reply": "2023-01-09T17:32:02.052580Z",
          "shell.execute_reply.started": "2023-01-09T17:32:02.040007Z"
        },
        "trusted": true,
        "id": "lToSPmZIuQLG",
        "outputId": "09401a0a-8b71-4c8a-825b-8742f2c4a6df"
      },
      "outputs": [
        {
          "data": {
            "text/plain": [
              "\"model_dt = DecisionTreeClassifier(max_depth = 8,criterion = 'gini')\\nmodel_dt.fit(X_train,y_train)\\ny_pred = model_dt.predict(X_test)\\ny_pred=pd.DataFrame(y_pred)\\ny_pred=y_pred.astype('float64')\\ny_pred.to_csv(path_or_buf='y_pred_dt.csv',header=['class'],index_label='Id')\""
            ]
          },
          "execution_count": 58,
          "metadata": {},
          "output_type": "execute_result"
        }
      ],
      "source": [
        "'''model_dt = DecisionTreeClassifier(max_depth = 8,criterion = 'gini')\n",
        "model_dt.fit(X_train,y_train)\n",
        "y_pred = model_dt.predict(X_test)\n",
        "y_pred=pd.DataFrame(y_pred)\n",
        "y_pred=y_pred.astype('float64')\n",
        "y_pred.to_csv(path_or_buf='y_pred_dt.csv',header=['class'],index_label='Id')'''"
      ]
    },
    {
      "cell_type": "markdown",
      "metadata": {
        "id": "ZYwFxCIIuQLG"
      },
      "source": [
        "**Accuracy is 0.78563**"
      ]
    },
    {
      "cell_type": "markdown",
      "metadata": {
        "id": "qgXzqQ-DuQLH"
      },
      "source": [
        "# **Random Forest:**"
      ]
    },
    {
      "cell_type": "markdown",
      "metadata": {
        "id": "6GEOvg4nuQLH"
      },
      "source": [
        "**The rationale behind using Random forest is:\n",
        "Decision trees have low bias and high variance. Desirable is low bias and low variance. Hence it is very prone to learn the features and might give less accuracy over the unseen test set which is 70% of the test set.\n",
        "Hence I used random forest as it aggregates many decision trees. Hence variance reduces by square root of the total no of trees used.\n",
        "Hence my assumption is that random forest would better generalize the data.**"
      ]
    },
    {
      "cell_type": "code",
      "execution_count": null,
      "metadata": {
        "execution": {
          "iopub.execute_input": "2023-01-09T17:32:02.056852Z",
          "iopub.status.busy": "2023-01-09T17:32:02.055652Z",
          "iopub.status.idle": "2023-01-09T17:32:02.067664Z",
          "shell.execute_reply": "2023-01-09T17:32:02.066805Z",
          "shell.execute_reply.started": "2023-01-09T17:32:02.056711Z"
        },
        "trusted": true,
        "id": "GeQ1G5a0uQLH",
        "outputId": "027b2573-f089-4586-db7d-d4cb42198406"
      },
      "outputs": [
        {
          "data": {
            "text/plain": [
              "\"from sklearn.ensemble import RandomForestClassifier\\nmodel_rf = RandomForestClassifier(max_depth = 8, n_estimators = 100, random_state = 42)\\nmodel_rf.fit(X_train,y_train)\\ny_pred = model_rf.predict(X_test)\\ny_pred=pd.DataFrame(y_pred)\\ny_pred=y_pred.astype('float64')\\ny_pred.to_csv(path_or_buf='y_pred_rf.csv',header=['class'],index_label='Id')\""
            ]
          },
          "execution_count": 59,
          "metadata": {},
          "output_type": "execute_result"
        }
      ],
      "source": [
        "'''from sklearn.ensemble import RandomForestClassifier\n",
        "model_rf = RandomForestClassifier(max_depth = 8, n_estimators = 100, random_state = 42)\n",
        "model_rf.fit(X_train,y_train)\n",
        "y_pred = model_rf.predict(X_test)\n",
        "y_pred=pd.DataFrame(y_pred)\n",
        "y_pred=y_pred.astype('float64')\n",
        "y_pred.to_csv(path_or_buf='y_pred_rf.csv',header=['class'],index_label='Id')'''"
      ]
    },
    {
      "cell_type": "markdown",
      "metadata": {
        "id": "RaRAffCGuQLH"
      },
      "source": [
        "**Accuracy came out to be: 0.75921**"
      ]
    },
    {
      "cell_type": "markdown",
      "metadata": {
        "id": "4gu4248AuQLH"
      },
      "source": [
        "# **AdaBoost:**"
      ]
    },
    {
      "cell_type": "markdown",
      "metadata": {
        "id": "CywNMedhuQLH"
      },
      "source": [
        "**Now I wanted to try boosting algorithms as it aggregates a large number of weak classifiers (decision trees here) and learns from the result of previous classifier. Boosting is known to reduce bias. The misclassified examples are given more weight on subsequent trees and then trained. Hence what happens is that model tries to better learn the small differences in the training data.**\n",
        "\n",
        "**So my assumption is that using boosting, my model would be both low bias as well as low variance.\n",
        "Low bias: Because the model trains from its mistakes from previous classifier\n",
        "Low Variance: It aggregates many decision trees as aggregation reduces variation(See explanation of random forest,an aggregation technique**"
      ]
    },
    {
      "cell_type": "markdown",
      "metadata": {
        "id": "BikPGtyduQLI"
      },
      "source": [
        "# **Adaptive boosting**"
      ]
    },
    {
      "cell_type": "code",
      "execution_count": null,
      "metadata": {
        "execution": {
          "iopub.execute_input": "2023-01-09T17:32:02.069609Z",
          "iopub.status.busy": "2023-01-09T17:32:02.069238Z",
          "iopub.status.idle": "2023-01-09T17:32:02.084199Z",
          "shell.execute_reply": "2023-01-09T17:32:02.082890Z",
          "shell.execute_reply.started": "2023-01-09T17:32:02.069578Z"
        },
        "trusted": true,
        "id": "xO4qTDftuQLI",
        "outputId": "6d3916fd-7106-4128-be07-a7e57871f8b1"
      },
      "outputs": [
        {
          "data": {
            "text/plain": [
              "\"from sklearn.ensemble import AdaBoostClassifier\\nmodel_dt = DecisionTreeClassifier(max_depth = 8,criterion = 'gini')\\nmodel_rf = AdaBoostClassifier(model_dt, random_state = 42)\\nmodel_rf.fit(X_train,y_train)\\ny_pred = model_rf.predict(X_test)\\ny_pred=pd.DataFrame(y_pred)\\ny_pred=y_pred.astype('float64')\\ny_pred.to_csv(path_or_buf='y_pred_ada.csv',header=['class'],index_label='Id')\""
            ]
          },
          "execution_count": 60,
          "metadata": {},
          "output_type": "execute_result"
        }
      ],
      "source": [
        "'''from sklearn.ensemble import AdaBoostClassifier\n",
        "model_dt = DecisionTreeClassifier(max_depth = 8,criterion = 'gini')\n",
        "model_rf = AdaBoostClassifier(model_dt, random_state = 42)\n",
        "model_rf.fit(X_train,y_train)\n",
        "y_pred = model_rf.predict(X_test)\n",
        "y_pred=pd.DataFrame(y_pred)\n",
        "y_pred=y_pred.astype('float64')\n",
        "y_pred.to_csv(path_or_buf='y_pred_ada.csv',header=['class'],index_label='Id')'''"
      ]
    },
    {
      "cell_type": "markdown",
      "metadata": {
        "id": "yWB3xPb7uQLI"
      },
      "source": [
        "**The accuracy is 0.7995**"
      ]
    },
    {
      "cell_type": "markdown",
      "metadata": {
        "id": "ivuFkytwuQLI"
      },
      "source": [
        "# **Gradient Boosting:**"
      ]
    },
    {
      "cell_type": "markdown",
      "metadata": {
        "id": "HATKHaNwuQLI"
      },
      "source": [
        "**This is a model which uses gradient descent to reach the optima. Here learning rate is a hyperparameter which can be tuned for faster or slower convergence.\n",
        "Unlike Adaboost, here all the trees are given equal weights.It builds trees on previous classifier’s residuals thus capturing variance in data.\n",
        "\n",
        "**Compared to AdaBoost, gradient boosting does not penalize missed-classified cases but using loss function instead**\n",
        "\n",
        "**My rationale for using Gradient Boosting is that I wnated to see that if taking loss into account,rather than increase weights of the misclassified, can it give me a model which gives better accuracy or not.**"
      ]
    },
    {
      "cell_type": "code",
      "execution_count": null,
      "metadata": {
        "execution": {
          "iopub.execute_input": "2023-01-09T17:32:02.086760Z",
          "iopub.status.busy": "2023-01-09T17:32:02.085913Z",
          "iopub.status.idle": "2023-01-09T17:32:02.102792Z",
          "shell.execute_reply": "2023-01-09T17:32:02.101118Z",
          "shell.execute_reply.started": "2023-01-09T17:32:02.086708Z"
        },
        "trusted": true,
        "id": "QdQh6Rv_uQLJ",
        "outputId": "3a7a058e-1e50-4e81-af5e-fea992e53c13"
      },
      "outputs": [
        {
          "data": {
            "text/plain": [
              "\"from sklearn.ensemble import GradientBoostingClassifier\\nfrom sklearn.tree import DecisionTreeClassifier\\n\\nmodel_gb = GradientBoostingClassifier(max_depth = 20,n_estimators = 100,random_state = 42)\\nmodel_gb.fit(X_train,y_train)\\ny_pred = model_gb.predict(X_test)\\ny_pred=pd.DataFrame(y_pred)\\ny_pred=y_pred.astype('float64')\\ny_pred.to_csv(path_or_buf='y_pred_gb.csv',header=['class'],index_label='Id')\""
            ]
          },
          "execution_count": 61,
          "metadata": {},
          "output_type": "execute_result"
        }
      ],
      "source": [
        "'''from sklearn.ensemble import GradientBoostingClassifier\n",
        "from sklearn.tree import DecisionTreeClassifier\n",
        "\n",
        "model_gb = GradientBoostingClassifier(max_depth = 20,n_estimators = 100,random_state = 42)\n",
        "model_gb.fit(X_train,y_train)\n",
        "y_pred = model_gb.predict(X_test)\n",
        "y_pred=pd.DataFrame(y_pred)\n",
        "y_pred=y_pred.astype('float64')\n",
        "y_pred.to_csv(path_or_buf='y_pred_gb.csv',header=['class'],index_label='Id')'''"
      ]
    },
    {
      "cell_type": "markdown",
      "metadata": {
        "id": "U7aldQ1NuQLJ"
      },
      "source": [
        "**By this time the boosting algorithms are giving me better accuracy on the test set compared to all previous algorithms. SO I would like to try out other boosting techniques given in the book and look for models giving me better accuracy.**"
      ]
    },
    {
      "cell_type": "markdown",
      "metadata": {
        "id": "RXJ_ch52uQLJ"
      },
      "source": [
        "**Accuracy is 0.78539**"
      ]
    },
    {
      "cell_type": "markdown",
      "metadata": {
        "id": "IKJ9angpuQLJ"
      },
      "source": [
        "# **Histogram Based Gradient Boosting Classifier:**"
      ]
    },
    {
      "cell_type": "markdown",
      "metadata": {
        "id": "e_jdleGAuQLJ"
      },
      "source": [
        "**Training the trees that are added to the ensemble can be dramatically accelerated by discretizing (binning) the continuous input variables to a few hundred unique values. Gradient boosting ensembles that implement this technique and tailor the training algorithm around input variables under this transform are referred to as histogram-based gradient boosting ensembles.**"
      ]
    },
    {
      "cell_type": "markdown",
      "metadata": {
        "id": "3RwlyveYuQLJ"
      },
      "source": [
        "**The only rationale to use this model was that it gave me better training speed when training using gradient boosting**"
      ]
    },
    {
      "cell_type": "code",
      "execution_count": null,
      "metadata": {
        "execution": {
          "iopub.execute_input": "2023-01-09T17:32:02.109656Z",
          "iopub.status.busy": "2023-01-09T17:32:02.109208Z",
          "iopub.status.idle": "2023-01-09T17:32:02.117231Z",
          "shell.execute_reply": "2023-01-09T17:32:02.115945Z",
          "shell.execute_reply.started": "2023-01-09T17:32:02.109618Z"
        },
        "trusted": true,
        "id": "dnuXdfcluQLK",
        "outputId": "6d9f7d3d-5a41-4e6d-de2b-fd02a5d03f81"
      },
      "outputs": [
        {
          "data": {
            "text/plain": [
              "\"from sklearn.ensemble import HistGradientBoostingClassifier\\nmodel_hgbc = HistGradientBoostingClassifier(learning_rate=0.01, max_depth=100, max_iter=2000, max_leaf_nodes=100,random_state = 42)\\nmodel_hgbc.fit(X_train,y_train)\\ny_pred = model_hgbc.predict(X_test)\\ny_pred = model_hgbc.predict(X_test)\\ny_pred=pd.DataFrame(y_pred)\\ny_pred=y_pred.astype('float64')\\ny_pred.to_csv(path_or_buf='y_pred_hist.csv',header=['class'],index_label='Id')\""
            ]
          },
          "execution_count": 62,
          "metadata": {},
          "output_type": "execute_result"
        }
      ],
      "source": [
        "'''from sklearn.ensemble import HistGradientBoostingClassifier\n",
        "model_hgbc = HistGradientBoostingClassifier(learning_rate=0.01, max_depth=100, max_iter=2000, max_leaf_nodes=100,random_state = 42)\n",
        "model_hgbc.fit(X_train,y_train)\n",
        "y_pred = model_hgbc.predict(X_test)\n",
        "y_pred = model_hgbc.predict(X_test)\n",
        "y_pred=pd.DataFrame(y_pred)\n",
        "y_pred=y_pred.astype('float64')\n",
        "y_pred.to_csv(path_or_buf='y_pred_hist.csv',header=['class'],index_label='Id')'''"
      ]
    },
    {
      "cell_type": "markdown",
      "metadata": {
        "id": "U4QUbyGLuQLK"
      },
      "source": [
        "**Accuracy is 0.80234**"
      ]
    },
    {
      "cell_type": "markdown",
      "metadata": {
        "id": "n24MfkEZuQLK"
      },
      "source": [
        "# **Extreme Gradient Boosting:**"
      ]
    },
    {
      "cell_type": "markdown",
      "metadata": {
        "id": "1Rdq8DVFuQLK"
      },
      "source": [
        "****This model was not stated in the book but I got information about this model from internet****\n",
        "\n",
        "**Extreme gradient boosting or XGBoost is a more regularized form of Gradient Boosting. XGBoost uses regularization (L1 & L2), which improves model generalization capabilities.**\n",
        "\n",
        "**XGBoost delivers high performance as compared to Gradient Boosting. Its training is very fast and can be parallelized across clusters.**\n",
        "\n",
        "**When to use XGBoost?\n",
        "When there is a larger number of training samples. Ideally, greater than 1000 training samples and less 100 features or we can say when the number of features < number of training samples.\n",
        "When there is a mixture of categorical and numeric features or just numeric features.**\n",
        "\n",
        "Citation:\n",
        "https://towardsdatascience.com/a-brief-introduction-to-xgboost-3eaee2e3e5d6#:~:text=XGBoost%20vs%20Gradient%20Boosting,can%20be%20parallelized%20across%20clusters."
      ]
    },
    {
      "cell_type": "code",
      "execution_count": null,
      "metadata": {
        "execution": {
          "iopub.execute_input": "2023-01-09T17:32:02.120507Z",
          "iopub.status.busy": "2023-01-09T17:32:02.119584Z",
          "iopub.status.idle": "2023-01-09T17:32:02.134405Z",
          "shell.execute_reply": "2023-01-09T17:32:02.133501Z",
          "shell.execute_reply.started": "2023-01-09T17:32:02.120465Z"
        },
        "trusted": true,
        "id": "OBKx-u36uQLK",
        "outputId": "fd7cd532-f552-4c66-8efe-f0e38659a980"
      },
      "outputs": [
        {
          "data": {
            "text/plain": [
              "\"import xgboost as xgb\\nmodel_xgb = xgb.XGBClassifier()\\nmodel_xgb.fit(X_train,y_train)\\ny_pred = model_xgb.predict(X_test)\\ny_pred=pd.DataFrame(y_pred)\\ny_pred=y_pred.astype('float64')\\ny_pred.to_csv(path_or_buf='y_pred_xgb_final.csv',header=['class'],index_label='Id')\""
            ]
          },
          "execution_count": 63,
          "metadata": {},
          "output_type": "execute_result"
        }
      ],
      "source": [
        "'''import xgboost as xgb\n",
        "model_xgb = xgb.XGBClassifier()\n",
        "model_xgb.fit(X_train,y_train)\n",
        "y_pred = model_xgb.predict(X_test)\n",
        "y_pred=pd.DataFrame(y_pred)\n",
        "y_pred=y_pred.astype('float64')\n",
        "y_pred.to_csv(path_or_buf='y_pred_xgb_final.csv',header=['class'],index_label='Id')'''"
      ]
    },
    {
      "cell_type": "markdown",
      "metadata": {
        "id": "cNRGn_ruuQLK"
      },
      "source": [
        "**Accuracy is : 0.80278**"
      ]
    },
    {
      "cell_type": "markdown",
      "metadata": {
        "id": "pKLETQcPuQLL"
      },
      "source": [
        "**Cross Validation for Extreme Gradient Boosting:**"
      ]
    },
    {
      "cell_type": "markdown",
      "metadata": {
        "id": "XKrzgLVPuQLL"
      },
      "source": [
        "**I didn't know the practical (not theoritcal as theoretical range is very vague for cross validation) optimal range for the parameters of XGBoost. Hence the I referred the article on kaggle which I have given link below. **\n",
        "\n",
        "\n",
        "\n",
        "https://www.kaggle.com/code/prashant111/a-guide-on-xgboost-hyperparameters-tuning/notebook"
      ]
    },
    {
      "cell_type": "code",
      "execution_count": null,
      "metadata": {
        "execution": {
          "iopub.execute_input": "2023-01-09T17:32:02.136983Z",
          "iopub.status.busy": "2023-01-09T17:32:02.135639Z",
          "iopub.status.idle": "2023-01-09T17:32:02.150795Z",
          "shell.execute_reply": "2023-01-09T17:32:02.149402Z",
          "shell.execute_reply.started": "2023-01-09T17:32:02.136943Z"
        },
        "trusted": true,
        "id": "F0dttDqIuQLL",
        "outputId": "c50ac3af-49bb-4cbf-ce00-6a101759ea90"
      },
      "outputs": [
        {
          "data": {
            "text/plain": [
              "\"from sklearn.model_selection import GridSearchCV\\nmodel_xgb = xgb.XGBClassifier(min_child_weight=7,learning_rate = 0.05,tree_method = 'gpu_hist',random_state = 42)\\nparam_grid = {'n_estimators':[300,200,100],\\n              'max_depth': range(20,8,-2),\\n              'gamma':(1,9,1),\\n            'colsample_bytree' : range(0,1,3),\\n            'reg_lambda' : range(0,1,10),\\n            'reg_alpha' : range(0,20,5),\\n            'subsample' : 0.6\\n             }\\ngs_xgb = GridSearchCV(model_xgb,param_grid = param_grid,cv = 5, verbose=3)\\ngs_xgb.fit(X_train,y_train)\""
            ]
          },
          "execution_count": 64,
          "metadata": {},
          "output_type": "execute_result"
        }
      ],
      "source": [
        "'''from sklearn.model_selection import GridSearchCV\n",
        "model_xgb = xgb.XGBClassifier(min_child_weight=7,learning_rate = 0.05,tree_method = 'gpu_hist',random_state = 42)\n",
        "param_grid = {'n_estimators':[300,200,100],\n",
        "              'max_depth': range(20,8,-2),\n",
        "              'gamma':(1,9,1),\n",
        "            'colsample_bytree' : range(0,1,3),\n",
        "            'reg_lambda' : range(0,1,10),\n",
        "            'reg_alpha' : range(0,20,5),\n",
        "            'subsample' : 0.6\n",
        "             }\n",
        "gs_xgb = GridSearchCV(model_xgb,param_grid = param_grid,cv = 5, verbose=3)\n",
        "gs_xgb.fit(X_train,y_train)'''"
      ]
    },
    {
      "cell_type": "code",
      "execution_count": null,
      "metadata": {
        "execution": {
          "iopub.execute_input": "2023-01-09T17:32:02.153376Z",
          "iopub.status.busy": "2023-01-09T17:32:02.152119Z",
          "iopub.status.idle": "2023-01-09T17:32:02.168477Z",
          "shell.execute_reply": "2023-01-09T17:32:02.167261Z",
          "shell.execute_reply.started": "2023-01-09T17:32:02.153333Z"
        },
        "trusted": true,
        "id": "caiOWNDouQLL",
        "outputId": "0bfa0c33-4220-4ae7-ee05-993a8fdb05da"
      },
      "outputs": [
        {
          "data": {
            "text/plain": [
              "'gs_xgb.best_params_'"
            ]
          },
          "execution_count": 65,
          "metadata": {},
          "output_type": "execute_result"
        }
      ],
      "source": [
        "'''gs_xgb.best_params_'''"
      ]
    },
    {
      "cell_type": "markdown",
      "metadata": {
        "id": "Xs0U2hrbuQLL"
      },
      "source": []
    },
    {
      "cell_type": "markdown",
      "metadata": {
        "id": "I5xft4yIuQLL"
      },
      "source": [
        "# **Extreme Gradient Boosting: Final Model**"
      ]
    },
    {
      "cell_type": "code",
      "execution_count": null,
      "metadata": {
        "execution": {
          "iopub.execute_input": "2023-01-09T17:32:02.171469Z",
          "iopub.status.busy": "2023-01-09T17:32:02.170612Z"
        },
        "trusted": true,
        "id": "5MauTGWTuQLM"
      },
      "outputs": [],
      "source": [
        "import xgboost as xgb\n",
        "model_xgb = xgb.XGBClassifier(max_depth = 17,\n",
        "                              gamma = 2.0,\n",
        "                              n_estimators = 300,\n",
        "                              learning_rate = 0.05,\n",
        "                              min_child_weight = 7,\n",
        "                              subsample = 0.6,\n",
        "                              colsample_bytree = 0.67,\n",
        "                              colsample_bylevel = 0.67,\n",
        "                              colsample_bynode = 0.67,\n",
        "                              reg_lambda = 0.9,\n",
        "                              reg_alpha = 15.0,\n",
        "                              n_jobs = -1,\n",
        "                              random_state = 42)\n",
        "model_xgb.fit(X_train,y_train)\n",
        "y_pred = model_xgb.predict(X_test)\n",
        "y_pred=pd.DataFrame(y_pred)\n",
        "y_pred=y_pred.astype('float64')\n",
        "y_pred.to_csv(path_or_buf='y_pred_xgb_final.csv',header=['class'],index_label='Id')"
      ]
    },
    {
      "cell_type": "markdown",
      "metadata": {
        "id": "AxS4qopFuQLM"
      },
      "source": [
        "**Accuracy is : 0.80425**"
      ]
    },
    {
      "cell_type": "markdown",
      "metadata": {
        "id": "dzcmNSXnuQLM"
      },
      "source": [
        "**I didn't use stacking classifier as it took too much time**"
      ]
    }
  ],
  "metadata": {
    "kernelspec": {
      "display_name": "Python 3",
      "language": "python",
      "name": "python3"
    },
    "language_info": {
      "codemirror_mode": {
        "name": "ipython",
        "version": 3
      },
      "file_extension": ".py",
      "mimetype": "text/x-python",
      "name": "python",
      "nbconvert_exporter": "python",
      "pygments_lexer": "ipython3",
      "version": "3.7.12"
    },
    "colab": {
      "provenance": []
    }
  },
  "nbformat": 4,
  "nbformat_minor": 0
}